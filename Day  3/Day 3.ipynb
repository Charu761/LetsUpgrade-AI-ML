{
 "cells": [
  {
   "cell_type": "markdown",
   "metadata": {},
   "source": [
    "# Day 3 - Assignment"
   ]
  },
  {
   "cell_type": "raw",
   "metadata": {},
   "source": [
    "1. Write a program to subtract two complex numbers in Python.\n",
    "============================================================="
   ]
  },
  {
   "cell_type": "code",
   "execution_count": 7,
   "metadata": {
    "scrolled": true
   },
   "outputs": [
    {
     "name": "stdout",
     "output_type": "stream",
     "text": [
      "(6+6j)\n"
     ]
    }
   ],
   "source": [
    "a = 9+12j #assigned a complex number to variable 'a'\n",
    "b = 3+6j  #assigned a complex number to variable 'b'\n",
    "\n",
    "c = a-b   #Subtracting the complex numbers\n",
    "\n",
    "print(c)  #Printing the resultant value "
   ]
  },
  {
   "cell_type": "raw",
   "metadata": {},
   "source": [
    "2. Write a program to find the fourth root of a number.\n",
    "======================================================="
   ]
  },
  {
   "cell_type": "code",
   "execution_count": 28,
   "metadata": {},
   "outputs": [
    {
     "name": "stdout",
     "output_type": "stream",
     "text": [
      "4th root of 'a' with value, 625 is 5.0\n"
     ]
    }
   ],
   "source": [
    "a = 625                                           #assigning a value in variable 'a'\n",
    "\n",
    "rt_4 = a**(1/4)                                   #calculating the 4th root of a\n",
    "\n",
    "print(\"4th root of 'a' with value,\", a,\"is\",rt_4) #Printing the result"
   ]
  },
  {
   "cell_type": "raw",
   "metadata": {},
   "source": [
    "3. Write a program to swap two numbers in Python with the help of a temporary variable.\n",
    "======================================================================================="
   ]
  },
  {
   "cell_type": "code",
   "execution_count": 13,
   "metadata": {},
   "outputs": [
    {
     "name": "stdout",
     "output_type": "stream",
     "text": [
      "Before swap a = 2  and b = 3\n",
      "After  swap a = 3  and b = 2\n"
     ]
    }
   ],
   "source": [
    "#Assigning values\n",
    "a = 2\n",
    "b = 3\n",
    "\n",
    "print(\"Before swap a =\",a,\" and b =\",b)\n",
    "\n",
    "#Swapping values using a temporary valriable\n",
    "temp = a\n",
    "a = b\n",
    "b = temp\n",
    "\n",
    "print(\"After  swap a =\",a,\" and b =\",b)\n"
   ]
  },
  {
   "cell_type": "raw",
   "metadata": {},
   "source": [
    "4. Write a program to swap two numbers in Python without using a temporary variable.\n",
    "===================================================================================="
   ]
  },
  {
   "cell_type": "code",
   "execution_count": 15,
   "metadata": {},
   "outputs": [
    {
     "name": "stdout",
     "output_type": "stream",
     "text": [
      "Before swap a = 10  and b = 20\n",
      "After  swap a = 20  and b = 10\n"
     ]
    }
   ],
   "source": [
    "#Assigning values\n",
    "a = 10\n",
    "b = 20\n",
    "\n",
    "print(\"Before swap a =\",a,\" and b =\",b)\n",
    "\n",
    "#Swapping values without a temporary variable\n",
    "a,b = b,a\n",
    "\n",
    "print(\"After  swap a =\",a,\" and b =\",b)"
   ]
  },
  {
   "cell_type": "raw",
   "metadata": {},
   "source": [
    "5. Write a program to convert fahrenheit to kelvin and celsius both.\n",
    "===================================================================="
   ]
  },
  {
   "cell_type": "code",
   "execution_count": 20,
   "metadata": {},
   "outputs": [
    {
     "name": "stdout",
     "output_type": "stream",
     "text": [
      "Fahrenheit Value = 110 °F\n",
      "Kelvin Value     = 316.48333333333335 K\n",
      "Celsius Value    = 43.333333333333336 °C\n"
     ]
    }
   ],
   "source": [
    "fahrenheit_val = 110   #hot summer 😅 \n",
    "\n",
    "#fahrenheit to kelvin conversion\n",
    "kelvin_val = (fahrenheit_val + 459.67) * 5/9\n",
    "\n",
    "#fahrenheit to celsius conversion\n",
    "celsius_val = (fahrenheit_val - 32) * 5/9\n",
    "\n",
    "print(\"Fahrenheit Value =\",fahrenheit_val,\"°F\")\n",
    "print(\"Kelvin Value     =\",kelvin_val,\"K\")\n",
    "print(\"Celsius Value    =\",celsius_val,\"°C\")\n"
   ]
  },
  {
   "cell_type": "raw",
   "metadata": {},
   "source": [
    "6. Write a program to demonstrate all the available data types in Python. Hint: Use type() function.\n",
    "===================================================================================================="
   ]
  },
  {
   "cell_type": "code",
   "execution_count": 25,
   "metadata": {},
   "outputs": [
    {
     "name": "stdout",
     "output_type": "stream",
     "text": [
      "<class 'int'>\n",
      "<class 'float'>\n",
      "<class 'complex'>\n",
      "<class 'str'>\n",
      "<class 'bool'>\n",
      "<class 'list'>\n",
      "<class 'tuple'>\n",
      "<class 'dict'>\n"
     ]
    }
   ],
   "source": [
    "a = 100\n",
    "b = 99.9\n",
    "c = 3+9j\n",
    "d = \"Hello, World\"\n",
    "e = True\n",
    "f = [0,1,2]\n",
    "g = ('hello',1,2,3)\n",
    "h = {'Name':'Rahul', 'Place':'New Delhi'}\n",
    "\n",
    "print(type(a))\n",
    "print(type(b))\n",
    "print(type(c))\n",
    "print(type(d))\n",
    "print(type(e))\n",
    "print(type(f))\n",
    "print(type(g))\n",
    "print(type(h))"
   ]
  },
  {
   "cell_type": "raw",
   "metadata": {},
   "source": [
    "7. Create a Markdown cell in jupyter and list the steps discussed in the session by Dr. Darshan Ingle sir to create Github profile and upload Githubs Assignment link.\n",
    "=========================================================================================================================="
   ]
  },
  {
   "cell_type": "markdown",
   "metadata": {},
   "source": [
    "## Steps to upload the assignments\n",
    "\n",
    ">__Step 1 -__ Create a github account using an _email-id_ and a _password_.\n",
    "\n",
    ">__Step 2 -__ Go to your github profile and click **New** to create a new repo in your account.\n",
    "\n",
    ">__Step 3 -__ Lable the repo name as **LetsUpgrade AI-ML**, leave it as public and save it.\n",
    "\n",
    ">__Step 4 -__ Click the **Upload files** option, and then drag the _**Day 3**_ folder containing the _'.ipynb'_ file.\n",
    "\n",
    ">__Step 5 -__ Copy the **_URL_** of the assignment repo from the browser and submit it in the assignment link \n",
    "              _https://bit.ly/aimlassignment_ .\n",
    "\n",
    ">__Step 6 -__ Make sure the **_URL_** is public and visible to everyone.\n",
    "\n",
    ">__Setp 7 -__ After submission, check the mail for the submit confirmation from **Google forms**."
   ]
  }
 ],
 "metadata": {
  "kernelspec": {
   "display_name": "Python 3",
   "language": "python",
   "name": "python3"
  },
  "language_info": {
   "codemirror_mode": {
    "name": "ipython",
    "version": 3
   },
   "file_extension": ".py",
   "mimetype": "text/x-python",
   "name": "python",
   "nbconvert_exporter": "python",
   "pygments_lexer": "ipython3",
   "version": "3.7.6"
  }
 },
 "nbformat": 4,
 "nbformat_minor": 4
}
