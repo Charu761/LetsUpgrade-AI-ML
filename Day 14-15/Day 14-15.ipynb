{
 "cells": [
  {
   "cell_type": "markdown",
   "metadata": {},
   "source": [
    "# Day 14, 15 - Assignment"
   ]
  },
  {
   "cell_type": "markdown",
   "metadata": {},
   "source": [
    "# 1. Create a 3x3x3 array with random values "
   ]
  },
  {
   "cell_type": "code",
   "execution_count": 1,
   "metadata": {},
   "outputs": [
    {
     "name": "stdout",
     "output_type": "stream",
     "text": [
      "[[[5.18072296e-318 1.10926141e-311 3.91948539e-312]\n",
      "  [0.00000000e+000 5.34270732e-318 3.91948539e-312]\n",
      "  [1.10926627e-311 1.10926627e-311 6.95186623e-310]]\n",
      "\n",
      " [[6.95186623e-310 0.00000000e+000 1.10926173e-311]\n",
      "  [3.95252517e-323 6.95186462e-310 2.02369289e-320]\n",
      "  [3.95252517e-323 6.95186462e-310 9.88131292e-324]]\n",
      "\n",
      " [[6.95186462e-310 6.95186462e-310 1.61895431e-319]\n",
      "  [0.00000000e+000             nan 0.00000000e+000]\n",
      "  [8.34433679e-308 2.29179042e-312 0.00000000e+000]]]\n"
     ]
    }
   ],
   "source": [
    "import numpy as np\n",
    "m_3D = np.empty((3,3,3))\n",
    "print(m_3D)"
   ]
  },
  {
   "cell_type": "markdown",
   "metadata": {},
   "source": [
    "# 2.Create a 5x5 matrix with values 1,2,3,4 just below the diagonal"
   ]
  },
  {
   "cell_type": "code",
   "execution_count": 2,
   "metadata": {},
   "outputs": [
    {
     "name": "stdout",
     "output_type": "stream",
     "text": [
      "[[0. 0. 0. 0. 0.]\n",
      " [1. 0. 0. 0. 0.]\n",
      " [0. 2. 0. 0. 0.]\n",
      " [0. 0. 3. 0. 0.]\n",
      " [0. 0. 0. 4. 0.]]\n"
     ]
    }
   ],
   "source": [
    "m=np.zeros((5,5))\n",
    "for i in range(len(m)):\n",
    "    if(i<4):\n",
    "        m[i+1][i] = i+1    \n",
    "print(m)"
   ]
  },
  {
   "cell_type": "markdown",
   "metadata": {},
   "source": [
    "# 3.Create a 8x8 matrix and fill it with a checkerboard pattern"
   ]
  },
  {
   "cell_type": "code",
   "execution_count": 3,
   "metadata": {},
   "outputs": [
    {
     "name": "stdout",
     "output_type": "stream",
     "text": [
      "[[0. 1. 0. 1. 0. 1. 0. 1.]\n",
      " [1. 0. 1. 0. 1. 0. 1. 0.]\n",
      " [0. 1. 0. 1. 0. 1. 0. 1.]\n",
      " [1. 0. 1. 0. 1. 0. 1. 0.]\n",
      " [0. 1. 0. 1. 0. 1. 0. 1.]\n",
      " [1. 0. 1. 0. 1. 0. 1. 0.]\n",
      " [0. 1. 0. 1. 0. 1. 0. 1.]\n",
      " [1. 0. 1. 0. 1. 0. 1. 0.]]\n"
     ]
    }
   ],
   "source": [
    "cb = np.zeros((8, 8))\n",
    "cb[1::2, ::2] = 1\n",
    "cb[::2, 1::2] = 1\n",
    "print(cb)"
   ]
  },
  {
   "cell_type": "markdown",
   "metadata": {},
   "source": [
    "# 4. Normalize a 5x5 random matrix"
   ]
  },
  {
   "cell_type": "code",
   "execution_count": 4,
   "metadata": {},
   "outputs": [
    {
     "name": "stdout",
     "output_type": "stream",
     "text": [
      "[[0.   0.   0.   0.   0.  ]\n",
      " [0.25 0.   0.   0.   0.  ]\n",
      " [0.   0.5  0.   0.   0.  ]\n",
      " [0.   0.   0.75 0.   0.  ]\n",
      " [0.   0.   0.   1.   0.  ]]\n"
     ]
    }
   ],
   "source": [
    "nm     = np.empty((5,5))\n",
    "nm_max = nm.max()\n",
    "nm_min = nm.min()\n",
    "nm     = (nm - nm_min)/(nm_max - nm_min)\n",
    "\n",
    "print(nm)"
   ]
  },
  {
   "cell_type": "markdown",
   "metadata": {},
   "source": [
    "# 5.  How to find common values between two arrays?"
   ]
  },
  {
   "cell_type": "code",
   "execution_count": 5,
   "metadata": {},
   "outputs": [
    {
     "name": "stdout",
     "output_type": "stream",
     "text": [
      "Common values in two arrays:\n",
      "[ 60 120]\n"
     ]
    }
   ],
   "source": [
    "arr1 = np.array([10, 50, 60, 100, 120])\n",
    "arr2 = np.array([20, 60, 120])\n",
    "\n",
    "print(\"Common values in two arrays:\")\n",
    "print(np.intersect1d(arr1, arr2))"
   ]
  },
  {
   "cell_type": "markdown",
   "metadata": {},
   "source": [
    "# 6.How to get the dates of yesterday, today and tomorrow?"
   ]
  },
  {
   "cell_type": "code",
   "execution_count": 6,
   "metadata": {},
   "outputs": [
    {
     "name": "stdout",
     "output_type": "stream",
     "text": [
      "Yestraday :  2020-07-27\n",
      "Today     :  2020-07-28\n",
      "Tomorrow  :  2020-07-29\n"
     ]
    }
   ],
   "source": [
    "yesterday = np.datetime64('today', 'D') - np.timedelta64(1, 'D')\n",
    "print(\"Yestraday : \",yesterday)\n",
    "\n",
    "today     = np.datetime64('today', 'D')\n",
    "print(\"Today     : \",today)\n",
    "\n",
    "tomorrow  = np.datetime64('today', 'D') + np.timedelta64(1, 'D')\n",
    "print(\"Tomorrow  : \",tomorrow)\n"
   ]
  },
  {
   "cell_type": "markdown",
   "metadata": {},
   "source": [
    "# 7. Consider two random array A and B, check if they are equal"
   ]
  },
  {
   "cell_type": "code",
   "execution_count": 7,
   "metadata": {},
   "outputs": [
    {
     "name": "stdout",
     "output_type": "stream",
     "text": [
      "[6 9 9 2 8 8]\n",
      "[7 6 2 2 3 0]\n",
      "[False False False  True False False]\n",
      "Arrays are not equal\n"
     ]
    }
   ],
   "source": [
    "a = np.random.randint(0,10,6)\n",
    "b = np.random.randint(0,10,6)\n",
    "\n",
    "print(a)\n",
    "print(b)\n",
    "print(np.equal(a,b))\n",
    "\n",
    "if(np.allclose(a,b)):\n",
    "    print(\"Arrays are equal\")\n",
    "else:\n",
    "    print(\"Arrays are not equal\")\n"
   ]
  },
  {
   "cell_type": "markdown",
   "metadata": {},
   "source": [
    "# 8.Create random vector of size 10 and replace the maximum value by 0 "
   ]
  },
  {
   "cell_type": "code",
   "execution_count": 8,
   "metadata": {},
   "outputs": [
    {
     "name": "stdout",
     "output_type": "stream",
     "text": [
      "Original array:\n",
      "[65 46 42 44 94 36 21 20 55 93]\n",
      "Maximum value replaced by 0:\n",
      "[65 46 42 44  0 36 21 20 55 93]\n"
     ]
    }
   ],
   "source": [
    "v = np.random.randint(100, size=10)\n",
    "print(\"Original array:\")\n",
    "print(v)\n",
    "\n",
    "v[v.argmax()] = 0\n",
    "print(\"Maximum value replaced by 0:\")\n",
    "\n",
    "print(v)"
   ]
  },
  {
   "cell_type": "markdown",
   "metadata": {},
   "source": [
    "# 9. How to print all the values of an array?"
   ]
  },
  {
   "cell_type": "code",
   "execution_count": 9,
   "metadata": {},
   "outputs": [
    {
     "name": "stdout",
     "output_type": "stream",
     "text": [
      "47 6 30 24 41 13 93 72 4 47 "
     ]
    }
   ],
   "source": [
    "a = np.random.randint(100, size=10) \n",
    "\n",
    "for x in range(len(a)): \n",
    "    print(a[x], end=' ') "
   ]
  },
  {
   "cell_type": "markdown",
   "metadata": {},
   "source": [
    "# 10.Subtract the mean of each row of a matrix"
   ]
  },
  {
   "cell_type": "code",
   "execution_count": 10,
   "metadata": {},
   "outputs": [
    {
     "name": "stdout",
     "output_type": "stream",
     "text": [
      "[[8 6 4 9 1]\n",
      " [1 6 8 1 0]\n",
      " [0 3 4 9 4]\n",
      " [4 3 6 7 5]\n",
      " [8 4 9 6 0]]\n",
      "\n",
      "[[ 2.4  2.8  0.   4.  -4.4]\n",
      " [-4.6  2.8  4.  -4.  -5.4]\n",
      " [-5.6 -0.2  0.   4.  -1.4]\n",
      " [-1.6 -0.2  2.   2.  -0.4]\n",
      " [ 2.4  0.8  5.   1.  -5.4]]\n"
     ]
    }
   ],
   "source": [
    "mpx = np.random.randint(10, size=(5,5))\n",
    "print(mpx)\n",
    "print()\n",
    "mpy = mpx - mpx.mean(axis = 1)\n",
    "print(mpy)"
   ]
  },
  {
   "cell_type": "markdown",
   "metadata": {},
   "source": [
    "# 11.Consider a given vector, how to add 1 to each element indexed by a second vector (be careful with repeated indices)? "
   ]
  },
  {
   "cell_type": "code",
   "execution_count": 11,
   "metadata": {},
   "outputs": [
    {
     "name": "stdout",
     "output_type": "stream",
     "text": [
      "[2 5 4 2 5 0 5 0 2 2]\n",
      "[2 4 6 8 3]\n",
      "[2 5 5 3 6 0 6 0 3 2]\n"
     ]
    }
   ],
   "source": [
    "m0 = np.random.randint(10, size=10)\n",
    "\n",
    "print(m0)\n",
    "\n",
    "m1 = np.random.choice(range(len(m0)), 5, replace=False)\n",
    "\n",
    "print(m1)\n",
    "\n",
    "np.add.at(m0, m1, 1)\n",
    "\n",
    "print(m0)"
   ]
  },
  {
   "cell_type": "markdown",
   "metadata": {},
   "source": [
    "# 12.How to get the diagonal of a dot product?"
   ]
  },
  {
   "cell_type": "code",
   "execution_count": 12,
   "metadata": {},
   "outputs": [
    {
     "name": "stdout",
     "output_type": "stream",
     "text": [
      "[114  97 112]\n"
     ]
    }
   ],
   "source": [
    "mat1 = np.array([[12,7,3], [4 ,5,6], [7 ,8,9]])\n",
    "\n",
    "mat2 = np.array([[5,8,1], [6,7,3], [4,5,9]])\n",
    "\n",
    "print(np.diagonal(mat1.dot(mat2)))\n"
   ]
  },
  {
   "cell_type": "markdown",
   "metadata": {},
   "source": [
    "# 13.How to find the most frequent value in an array?"
   ]
  },
  {
   "cell_type": "code",
   "execution_count": 13,
   "metadata": {},
   "outputs": [
    {
     "name": "stdout",
     "output_type": "stream",
     "text": [
      "Original array:\n",
      "[11 13 11  7  3 13  2  7  7 14  8 16  4  3 10 15  7  1  5  2]\n",
      "\n",
      "Most frequent value in the above array:\n",
      "7\n"
     ]
    }
   ],
   "source": [
    "x = np.random.randint(20, size=20)\n",
    "print(\"Original array:\")\n",
    "print(x)\n",
    "print(\"\\nMost frequent value in the above array:\")\n",
    "print(np.bincount(x).argmax())"
   ]
  },
  {
   "cell_type": "markdown",
   "metadata": {},
   "source": [
    "# 14.How to get the n largest values of an array"
   ]
  },
  {
   "cell_type": "code",
   "execution_count": 14,
   "metadata": {},
   "outputs": [
    {
     "name": "stdout",
     "output_type": "stream",
     "text": [
      "Original array:\n",
      "[ 5 13 11 19  1  6  0 14 17 16  2 10  9 17 10  0 10  0  4 13]\n",
      "\n",
      "Largest value in the above array:\n",
      "19\n"
     ]
    }
   ],
   "source": [
    "x = np.random.randint(20, size=20)\n",
    "print(\"Original array:\")\n",
    "print(x)\n",
    "\n",
    "print(\"\\nLargest value in the above array:\")\n",
    "print(np.max(x))"
   ]
  },
  {
   "cell_type": "markdown",
   "metadata": {},
   "source": [
    "# 15.How to create a record array from a regular array?"
   ]
  },
  {
   "cell_type": "code",
   "execution_count": 17,
   "metadata": {
    "scrolled": true
   },
   "outputs": [
    {
     "name": "stdout",
     "output_type": "stream",
     "text": [
      "Original arrays:\n",
      "[['Alex' '26' 'New York']\n",
      " ['Ayisha' '28' 'London']\n",
      " ['Lily' '27' 'Paris']]\n",
      "\n",
      "Record array;\n",
      "[('Alex', 'Ayisha', 'Lily') ('26', '28', '27')\n",
      " ('New York', 'London', 'Paris')] \n",
      "\n",
      "Student 1 :  ['Alex' '26' 'New York']\n",
      "\n",
      "Student 2 :  ['Ayisha' '28' 'London']\n",
      "\n",
      "Student 3 :  ['Lily' '27' 'Paris']\n"
     ]
    }
   ],
   "source": [
    "arr1 = np.array([(\"Alex\", 26, \"New York\"), (\"Ayisha\", 28, \"London\"), (\"Lily\", 27, \"Paris\")])\n",
    "print(\"Original arrays:\")\n",
    "print(arr1)\n",
    "print(\"\\nRecord array;\")\n",
    "result = np.core.records.fromarrays(arr1,names='st1, st2, st3')\n",
    "print(result, \"\\n\")\n",
    "\n",
    "print(\"Student 1 : \", result.st1)\n",
    "\n",
    "print(\"\\nStudent 2 : \", result.st2)\n",
    "\n",
    "print(\"\\nStudent 3 : \", result.st3)"
   ]
  },
  {
   "cell_type": "code",
   "execution_count": null,
   "metadata": {},
   "outputs": [],
   "source": []
  }
 ],
 "metadata": {
  "kernelspec": {
   "display_name": "Python 3",
   "language": "python",
   "name": "python3"
  },
  "language_info": {
   "codemirror_mode": {
    "name": "ipython",
    "version": 3
   },
   "file_extension": ".py",
   "mimetype": "text/x-python",
   "name": "python",
   "nbconvert_exporter": "python",
   "pygments_lexer": "ipython3",
   "version": "3.7.7"
  }
 },
 "nbformat": 4,
 "nbformat_minor": 4
}
