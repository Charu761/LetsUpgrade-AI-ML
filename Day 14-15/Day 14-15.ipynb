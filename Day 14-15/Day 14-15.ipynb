{
 "cells": [
  {
   "cell_type": "markdown",
   "metadata": {},
   "source": [
    "# Day 14, 15 - Assignment"
   ]
  },
  {
   "cell_type": "markdown",
   "metadata": {},
   "source": [
    "# 1. Create a 3x3x3 array with random values "
   ]
  },
  {
   "cell_type": "code",
   "execution_count": 1,
   "metadata": {},
   "outputs": [
    {
     "name": "stdout",
     "output_type": "stream",
     "text": [
      "[[[1.39047140e-311 1.39047110e-311 9.08367206e+223]\n",
      "  [1.47372294e+195 7.36099718e+223 2.12601662e+121]\n",
      "  [3.07666482e+262 3.54039281e-057 4.45384947e-033]]\n",
      "\n",
      " [[5.08100980e+233 8.40217694e+217 6.88492102e-085]\n",
      "  [3.09775430e-080 2.66104499e-260 7.48960144e+247]\n",
      "  [4.47593816e-091 3.74168656e+233 6.17469411e-114]]\n",
      "\n",
      " [[1.69264133e-139 3.42630849e-086 7.12605658e-067]\n",
      "  [1.52059452e-047 5.28595595e-085 3.74798495e-091]\n",
      "  [7.13222113e-154 8.21798016e-072 5.40223320e-062]]]\n"
     ]
    }
   ],
   "source": [
    "import numpy as np\n",
    "m_3D = np.empty((3,3,3))\n",
    "print(m_3D)"
   ]
  },
  {
   "cell_type": "markdown",
   "metadata": {},
   "source": [
    "# 2.Create a 5x5 matrix with values 1,2,3,4 just below the diagonal"
   ]
  },
  {
   "cell_type": "code",
   "execution_count": 2,
   "metadata": {},
   "outputs": [
    {
     "name": "stdout",
     "output_type": "stream",
     "text": [
      "[[0. 0. 0. 0. 0.]\n",
      " [1. 0. 0. 0. 0.]\n",
      " [0. 2. 0. 0. 0.]\n",
      " [0. 0. 3. 0. 0.]\n",
      " [0. 0. 0. 4. 0.]]\n"
     ]
    }
   ],
   "source": [
    "m=np.zeros((5,5))\n",
    "for i in range(len(m)):\n",
    "    if(i<4):\n",
    "        m[i+1][i] = i+1    \n",
    "print(m)"
   ]
  },
  {
   "cell_type": "markdown",
   "metadata": {},
   "source": [
    "# 3.Create a 8x8 matrix and fill it with a checkerboard pattern"
   ]
  },
  {
   "cell_type": "code",
   "execution_count": 3,
   "metadata": {},
   "outputs": [
    {
     "name": "stdout",
     "output_type": "stream",
     "text": [
      "[[0. 1. 0. 1. 0. 1. 0. 1.]\n",
      " [1. 0. 1. 0. 1. 0. 1. 0.]\n",
      " [0. 1. 0. 1. 0. 1. 0. 1.]\n",
      " [1. 0. 1. 0. 1. 0. 1. 0.]\n",
      " [0. 1. 0. 1. 0. 1. 0. 1.]\n",
      " [1. 0. 1. 0. 1. 0. 1. 0.]\n",
      " [0. 1. 0. 1. 0. 1. 0. 1.]\n",
      " [1. 0. 1. 0. 1. 0. 1. 0.]]\n"
     ]
    }
   ],
   "source": [
    "cb = np.zeros((8, 8))\n",
    "cb[1::2, ::2] = 1\n",
    "cb[::2, 1::2] = 1\n",
    "print(cb)"
   ]
  },
  {
   "cell_type": "markdown",
   "metadata": {},
   "source": [
    "# 4. Normalize a 5x5 random matrix"
   ]
  },
  {
   "cell_type": "code",
   "execution_count": 4,
   "metadata": {},
   "outputs": [
    {
     "name": "stdout",
     "output_type": "stream",
     "text": [
      "[[0.   0.   0.   0.   0.  ]\n",
      " [0.25 0.   0.   0.   0.  ]\n",
      " [0.   0.5  0.   0.   0.  ]\n",
      " [0.   0.   0.75 0.   0.  ]\n",
      " [0.   0.   0.   1.   0.  ]]\n"
     ]
    }
   ],
   "source": [
    "nm     = np.empty((5,5))\n",
    "nm_max = nm.max()\n",
    "nm_min = nm.min()\n",
    "nm     = (nm - nm_min)/(nm_max - nm_min)\n",
    "\n",
    "print(nm)"
   ]
  },
  {
   "cell_type": "markdown",
   "metadata": {},
   "source": [
    "# 5.  How to find common values between two arrays?"
   ]
  },
  {
   "cell_type": "code",
   "execution_count": 5,
   "metadata": {},
   "outputs": [
    {
     "name": "stdout",
     "output_type": "stream",
     "text": [
      "Common values in two arrays:\n",
      "[ 60 120]\n"
     ]
    }
   ],
   "source": [
    "arr1 = np.array([10, 50, 60, 100, 120])\n",
    "arr2 = np.array([20, 60, 120])\n",
    "\n",
    "print(\"Common values in two arrays:\")\n",
    "print(np.intersect1d(arr1, arr2))"
   ]
  },
  {
   "cell_type": "markdown",
   "metadata": {},
   "source": [
    "# 6.How to get the dates of yesterday, today and tomorrow?"
   ]
  },
  {
   "cell_type": "code",
   "execution_count": 6,
   "metadata": {},
   "outputs": [
    {
     "name": "stdout",
     "output_type": "stream",
     "text": [
      "Yestraday :  2020-07-27\n",
      "Today     :  2020-07-28\n",
      "Tomorrow  :  2020-07-29\n"
     ]
    }
   ],
   "source": [
    "yesterday = np.datetime64('today', 'D') - np.timedelta64(1, 'D')\n",
    "print(\"Yestraday : \",yesterday)\n",
    "\n",
    "today     = np.datetime64('today', 'D')\n",
    "print(\"Today     : \",today)\n",
    "\n",
    "tomorrow  = np.datetime64('today', 'D') + np.timedelta64(1, 'D')\n",
    "print(\"Tomorrow  : \",tomorrow)\n"
   ]
  },
  {
   "cell_type": "markdown",
   "metadata": {},
   "source": [
    "# 7. Consider two random array A and B, check if they are equal"
   ]
  },
  {
   "cell_type": "code",
   "execution_count": 7,
   "metadata": {},
   "outputs": [
    {
     "name": "stdout",
     "output_type": "stream",
     "text": [
      "[6 7 8 8 9 3]\n",
      "[9 4 3 9 2 7]\n",
      "[False False False False False False]\n",
      "Arrays are not equal\n"
     ]
    }
   ],
   "source": [
    "a = np.random.randint(0,10,6)\n",
    "b = np.random.randint(0,10,6)\n",
    "\n",
    "print(a)\n",
    "print(b)\n",
    "print(np.equal(a,b))\n",
    "\n",
    "if(np.allclose(a,b)):\n",
    "    print(\"Arrays are equal\")\n",
    "else:\n",
    "    print(\"Arrays are not equal\")\n"
   ]
  },
  {
   "cell_type": "markdown",
   "metadata": {},
   "source": [
    "# 8.Create random vector of size 10 and replace the maximum value by 0 "
   ]
  },
  {
   "cell_type": "code",
   "execution_count": 8,
   "metadata": {},
   "outputs": [
    {
     "name": "stdout",
     "output_type": "stream",
     "text": [
      "Original array:\n",
      "[ 7 15 91  9  1 68 45 74  9 29]\n",
      "Maximum value replaced by 0:\n",
      "[ 7 15  0  9  1 68 45 74  9 29]\n"
     ]
    }
   ],
   "source": [
    "v = np.random.randint(100, size=10)\n",
    "print(\"Original array:\")\n",
    "print(v)\n",
    "\n",
    "v[v.argmax()] = 0\n",
    "print(\"Maximum value replaced by 0:\")\n",
    "\n",
    "print(v)"
   ]
  },
  {
   "cell_type": "markdown",
   "metadata": {},
   "source": [
    "# 9. How to print all the values of an array?"
   ]
  },
  {
   "cell_type": "code",
   "execution_count": 9,
   "metadata": {},
   "outputs": [
    {
     "name": "stdout",
     "output_type": "stream",
     "text": [
      "79 52 14 12 3 58 40 62 85 82 "
     ]
    }
   ],
   "source": [
    "a = np.random.randint(100, size=10) \n",
    "\n",
    "for x in range(len(a)): \n",
    "    print(a[x], end=' ') "
   ]
  },
  {
   "cell_type": "markdown",
   "metadata": {},
   "source": [
    "# 10.Subtract the mean of each row of a matrix"
   ]
  },
  {
   "cell_type": "code",
   "execution_count": 10,
   "metadata": {},
   "outputs": [
    {
     "name": "stdout",
     "output_type": "stream",
     "text": [
      "[[4 6 9 4 7]\n",
      " [9 2 5 5 6]\n",
      " [1 6 5 8 2]\n",
      " [8 5 1 1 6]\n",
      " [7 4 3 2 1]]\n",
      "\n",
      "[[-2.   0.6  4.6 -0.2  3.6]\n",
      " [ 3.  -3.4  0.6  0.8  2.6]\n",
      " [-5.   0.6  0.6  3.8 -1.4]\n",
      " [ 2.  -0.4 -3.4 -3.2  2.6]\n",
      " [ 1.  -1.4 -1.4 -2.2 -2.4]]\n"
     ]
    }
   ],
   "source": [
    "mpx = np.random.randint(10, size=(5,5))\n",
    "print(mpx)\n",
    "print()\n",
    "mpy = mpx - mpx.mean(axis = 1)\n",
    "print(mpy)"
   ]
  },
  {
   "cell_type": "markdown",
   "metadata": {},
   "source": [
    "# 11.Consider a given vector, how to add 1 to each element indexed by a second vector (be careful with repeated indices)? "
   ]
  },
  {
   "cell_type": "code",
   "execution_count": 11,
   "metadata": {},
   "outputs": [
    {
     "name": "stdout",
     "output_type": "stream",
     "text": [
      "[6 4 7 6 0 9 2 2 0 4]\n",
      "[2 0 9 4 6]\n",
      "[7 4 8 6 1 9 3 2 0 5]\n"
     ]
    }
   ],
   "source": [
    "m0 = np.random.randint(10, size=10)\n",
    "\n",
    "print(m0)\n",
    "\n",
    "m1 = np.random.choice(range(len(m0)), 5, replace=False)\n",
    "\n",
    "print(m1)\n",
    "\n",
    "np.add.at(m0, m1, 1)\n",
    "\n",
    "print(m0)"
   ]
  },
  {
   "cell_type": "markdown",
   "metadata": {},
   "source": [
    "# 12.How to get the diagonal of a dot product?"
   ]
  },
  {
   "cell_type": "code",
   "execution_count": 12,
   "metadata": {},
   "outputs": [
    {
     "name": "stdout",
     "output_type": "stream",
     "text": [
      "[114  97 112]\n"
     ]
    }
   ],
   "source": [
    "mat1 = np.array([[12,7,3], [4 ,5,6], [7 ,8,9]])\n",
    "\n",
    "mat2 = np.array([[5,8,1], [6,7,3], [4,5,9]])\n",
    "\n",
    "print(np.diagonal(mat1.dot(mat2)))\n"
   ]
  },
  {
   "cell_type": "markdown",
   "metadata": {},
   "source": [
    "# 13.How to find the most frequent value in an array?"
   ]
  },
  {
   "cell_type": "code",
   "execution_count": 13,
   "metadata": {},
   "outputs": [
    {
     "name": "stdout",
     "output_type": "stream",
     "text": [
      "Original array:\n",
      "[14  0 12 13  9  8 12  5  9  6  6 17 19  1 18 10 19  8 12 17]\n",
      "\n",
      "Most frequent value in the above array:\n",
      "12\n"
     ]
    }
   ],
   "source": [
    "x = np.random.randint(20, size=20)\n",
    "print(\"Original array:\")\n",
    "print(x)\n",
    "print(\"\\nMost frequent value in the above array:\")\n",
    "print(np.bincount(x).argmax())"
   ]
  },
  {
   "cell_type": "markdown",
   "metadata": {},
   "source": [
    "# 14.How to get the n largest values of an array"
   ]
  },
  {
   "cell_type": "code",
   "execution_count": 14,
   "metadata": {},
   "outputs": [
    {
     "name": "stdout",
     "output_type": "stream",
     "text": [
      "Original array:\n",
      "[13  0  8 18  1 11 11 17 11 10  5  1 13 19  6  1 10  1 16 16]\n",
      "\n",
      "Largest value in the above array:\n",
      "19\n"
     ]
    }
   ],
   "source": [
    "x = np.random.randint(20, size=20)\n",
    "print(\"Original array:\")\n",
    "print(x)\n",
    "\n",
    "print(\"\\nLargest value in the above array:\")\n",
    "print(np.max(x))"
   ]
  },
  {
   "cell_type": "markdown",
   "metadata": {},
   "source": [
    "# 15.How to create a record array from a regular array?"
   ]
  },
  {
   "cell_type": "code",
   "execution_count": 15,
   "metadata": {},
   "outputs": [
    {
     "name": "stdout",
     "output_type": "stream",
     "text": [
      "Original arrays:\n",
      "[['Alex' '26' 'New York']\n",
      " ['Ayisha' '28' 'London']\n",
      " ['Lily' '27' 'Paris']]\n",
      "\n",
      "Record array;\n",
      "[('Alex', 'Ayisha', 'Lily') ('26', '28', '27')\n",
      " ('New York', 'London', 'Paris')] \n",
      "\n",
      "Names :  ['Alex' '26' 'New York']\n",
      "\n",
      "Age :  ['Ayisha' '28' 'London']\n",
      "\n",
      "Place :  ['Lily' '27' 'Paris']\n"
     ]
    }
   ],
   "source": [
    "arr1 = np.array([(\"Alex\", 26, \"New York\"), (\"Ayisha\", 28, \"London\"), (\"Lily\", 27, \"Paris\")])\n",
    "print(\"Original arrays:\")\n",
    "print(arr1)\n",
    "print(\"\\nRecord array;\")\n",
    "result = np.core.records.fromarrays(arr1,names='Names, Age, Place')\n",
    "print(result, \"\\n\")\n",
    "\n",
    "print(\"Names : \", result.Names)\n",
    "\n",
    "print(\"\\nAge : \", result.Age)\n",
    "\n",
    "print(\"\\nPlace : \", result.Place)"
   ]
  }
 ],
 "metadata": {
  "kernelspec": {
   "display_name": "Python 3",
   "language": "python",
   "name": "python3"
  },
  "language_info": {
   "codemirror_mode": {
    "name": "ipython",
    "version": 3
   },
   "file_extension": ".py",
   "mimetype": "text/x-python",
   "name": "python",
   "nbconvert_exporter": "python",
   "pygments_lexer": "ipython3",
   "version": "3.7.7"
  }
 },
 "nbformat": 4,
 "nbformat_minor": 4
}
