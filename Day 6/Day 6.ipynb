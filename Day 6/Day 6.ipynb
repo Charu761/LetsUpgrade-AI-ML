{
 "cells": [
  {
   "cell_type": "markdown",
   "metadata": {},
   "source": [
    "# Day 6 - Assignment"
   ]
  },
  {
   "cell_type": "markdown",
   "metadata": {},
   "source": [
    "##### 1. Assuming that we have some email addresses in the \"username@companyname.com\" format, please write program to print the company name of a given email address. Both user names and company names are composed of letters only.\n",
    "\n",
    "##### Example:-\n",
    "\n",
    "        Input :  john@google.com\n",
    "        \n",
    "        Output:  google"
   ]
  },
  {
   "cell_type": "code",
   "execution_count": 15,
   "metadata": {},
   "outputs": [
    {
     "name": "stdout",
     "output_type": "stream",
     "text": [
      "Please enter the email address : hello\n",
      "Please check the input, you've missed '@' in the entered email address\n",
      "Please enter the email address : hello@geoglobecouk\n",
      "Please check the input, email must contain a '.' seperator\n",
      "Please enter the email address : @.com\n",
      "Please check the input, email entered is too short\n",
      "Please enter the email address : hello@geoglobe.co.uk\n",
      "\n",
      "geoglobe\n",
      "\n"
     ]
    }
   ],
   "source": [
    "#tuple of valid email address points\n",
    "checklist = (\n",
    "    (lambda s: '@' in s, \"you've missed '@' in the entered email address\"),\n",
    "    (lambda s: '.' in s, \"email must contain a '.' seperator\"),\n",
    "    (lambda s: len(s)>6, \"email entered is too short\")\n",
    ")\n",
    "\n",
    "#validate the input email address\n",
    "def valid_email(email_string):\n",
    "    for valid, err_msg in checklist:\n",
    "        if not valid(email_string):\n",
    "            return err_msg\n",
    "\n",
    "#If valid input then print the company name\n",
    "def company():\n",
    "    flag=True\n",
    "    while(flag):\n",
    "        str1=input(\"Please enter the email address : \")\n",
    "        msg=valid_email(str1)\n",
    "        if(msg==None):\n",
    "            flag=False\n",
    "            print(\"\\n\"+str1.split(\"@\")[1].split(\".\")[0])\n",
    "        else:\n",
    "            print(\"Please check the input, \" + msg)\n",
    "\n",
    "#Program execution\n",
    "company()\n",
    "\n",
    "#just as seperator \n",
    "print()"
   ]
  },
  {
   "cell_type": "markdown",
   "metadata": {},
   "source": [
    "##### 2. Write a program that accepts a comma-separated sequence of words as input and prints the words in a comma separated sequence after sorting them alphabetically.\n",
    "\n",
    "##### Example:-\n",
    "\n",
    "        Input  :  without,hello,bag,world\n",
    "        \n",
    "        Output :  bag,hello,without,world"
   ]
  },
  {
   "cell_type": "code",
   "execution_count": 13,
   "metadata": {
    "scrolled": true
   },
   "outputs": [
    {
     "name": "stdout",
     "output_type": "stream",
     "text": [
      "Enter comma-separated sequence of words : hey,buddy,hope,you,are,well\n",
      "\n",
      "are,buddy,hey,hope,well,you\n",
      "\n"
     ]
    }
   ],
   "source": [
    "str1 = input('Enter comma-separated sequence of words : ')\n",
    "\n",
    "lst = sorted((str1.strip()).split(\",\"))\n",
    "\n",
    "print('\\n' + ','.join(lst).strip(',') + '\\n') \n"
   ]
  },
  {
   "cell_type": "markdown",
   "metadata": {},
   "source": [
    "##### 3. Create your own Jupyter Notebook for Sets."
   ]
  },
  {
   "cell_type": "code",
   "execution_count": 38,
   "metadata": {},
   "outputs": [
    {
     "name": "stdout",
     "output_type": "stream",
     "text": [
      "C Python C++ JavaScript JAVA \n",
      "\n",
      "C Python React C++ JavaScript JAVA \n",
      "\n",
      "6\n",
      "\n",
      "Flask C Python React Android C++ JavaScript GO JAVA \n",
      "\n",
      "C Python React C++ JavaScript GO JAVA \n",
      "\n",
      "set() \n",
      "\n"
     ]
    }
   ],
   "source": [
    "my_set = {\"JAVA\", \"C\", \"C++\", \"JavaScript\", \"Python\"}\n",
    "\n",
    "for elem in my_set:\n",
    "    print(elem,end=\" \")\n",
    "print(\"\\n\")\n",
    "\n",
    "my_set.add(\"React\")\n",
    "\n",
    "for elem in my_set:\n",
    "    print(elem,end=\" \")\n",
    "print(\"\\n\")\n",
    "\n",
    "print(len(my_set))\n",
    "print()\n",
    "\n",
    "my_set.update(set([\"Android\", \"GO\", \"Flask\",\"GO\", \"Flask\"]))\n",
    "\n",
    "for elem in my_set:\n",
    "    print(elem,end=\" \")\n",
    "\n",
    "my_set.remove(\"Android\")\n",
    "\n",
    "my_set.discard(\"Flask\")\n",
    "print(\"\\n\")\n",
    "\n",
    "for elem in my_set:\n",
    "    print(elem,end=\" \")\n",
    "print(\"\\n\")\n",
    "\n",
    "my_set.clear()\n",
    "\n",
    "print(my_set, \"\\n\")"
   ]
  },
  {
   "cell_type": "markdown",
   "metadata": {},
   "source": [
    "###### 4. Given a list of n-1 numbers ranging from 1 to n, your task is to find the missing number. There are no duplicates.\n",
    "\n",
    "##### Example:\n",
    "              Input  : 1 2 4 6 3 7 8\n",
    "                \n",
    "              Output : 5"
   ]
  },
  {
   "cell_type": "code",
   "execution_count": 36,
   "metadata": {},
   "outputs": [
    {
     "name": "stdout",
     "output_type": "stream",
     "text": [
      "Enter the sequence of numbers with space in between the numbers : 1 2 3 4 5 6 7 8 9 10 12 13 14 15\n",
      "\n",
      " 11\n"
     ]
    }
   ],
   "source": [
    "str_nums = input('Enter the sequence of numbers with space in between the numbers : ')\n",
    "\n",
    "lst=list(map(lambda n:int(n), str_nums.split()))\n",
    "\n",
    "previous_element = lst[0]\n",
    "current_key = 1\n",
    "\n",
    "while(current_key != len(lst)):\n",
    "    if previous_element+1 == lst[current_key]:\n",
    "        current_key += 1\n",
    "        previous_element += 1\n",
    "    else:\n",
    "        print('\\n', previous_element + 1)\n",
    "        break\n"
   ]
  },
  {
   "cell_type": "markdown",
   "metadata": {},
   "source": [
    "##### 5. With a given list L, write a program to print this list L after removing all duplicate values with original order reserved.\n",
    "\n",
    "##### Example:\n",
    "               Input  : 12 24 35 24\n",
    "                \n",
    "               Output : 12 24 35\n",
    "               Output : 35 24 12\n"
   ]
  },
  {
   "cell_type": "code",
   "execution_count": 37,
   "metadata": {},
   "outputs": [
    {
     "name": "stdout",
     "output_type": "stream",
     "text": [
      "Enter numbers with space in between them : 12 24 35 24 88 120 155 88 120 155\n",
      "\n",
      "12 24 35 88 120 155 \n",
      "\n",
      "155 120 88 35 24 12 "
     ]
    }
   ],
   "source": [
    "str_nums = input('Enter numbers with space in between them : ')\n",
    "print()\n",
    "\n",
    "lst=list(map(lambda n:int(n), str_nums.split()))\n",
    "\n",
    "new_lst = []\n",
    "\n",
    "for i in lst: \n",
    "    if i not in new_lst: \n",
    "        new_lst.append(i)\n",
    "\n",
    "for i in new_lst:\n",
    "    print(i, end=\" \")\n",
    "\n",
    "print(\"\\n\")\n",
    "\n",
    "for i in new_lst[::-1]:\n",
    "    print(i, end=\" \")"
   ]
  }
 ],
 "metadata": {
  "kernelspec": {
   "display_name": "Python 3",
   "language": "python",
   "name": "python3"
  },
  "language_info": {
   "codemirror_mode": {
    "name": "ipython",
    "version": 3
   },
   "file_extension": ".py",
   "mimetype": "text/x-python",
   "name": "python",
   "nbconvert_exporter": "python",
   "pygments_lexer": "ipython3",
   "version": "3.7.6"
  }
 },
 "nbformat": 4,
 "nbformat_minor": 4
}
