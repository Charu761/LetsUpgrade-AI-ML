{
 "cells": [
  {
   "cell_type": "markdown",
   "id": "compound-insert",
   "metadata": {},
   "source": [
    "# Project 12 - Chatbot development using NLTK"
   ]
  },
  {
   "cell_type": "code",
   "execution_count": 1,
   "id": "pregnant-underground",
   "metadata": {},
   "outputs": [],
   "source": [
    "# importing Natural Language Toolkit \n",
    "import nltk"
   ]
  },
  {
   "cell_type": "code",
   "execution_count": 2,
   "id": "blocked-ending",
   "metadata": {},
   "outputs": [
    {
     "name": "stderr",
     "output_type": "stream",
     "text": [
      "[nltk_data] Downloading package punkt to\n",
      "[nltk_data]     C:\\Users\\Joy\\AppData\\Roaming\\nltk_data...\n",
      "[nltk_data]   Package punkt is already up-to-date!\n"
     ]
    },
    {
     "data": {
      "text/plain": [
       "True"
      ]
     },
     "execution_count": 2,
     "metadata": {},
     "output_type": "execute_result"
    }
   ],
   "source": [
    "# loading punctuation sets\n",
    "nltk.download('punkt')"
   ]
  },
  {
   "cell_type": "markdown",
   "id": "thick-revelation",
   "metadata": {},
   "source": [
    "### Sentence Tokenizer"
   ]
  },
  {
   "cell_type": "code",
   "execution_count": 3,
   "id": "precise-focus",
   "metadata": {},
   "outputs": [
    {
     "name": "stdout",
     "output_type": "stream",
     "text": [
      "['Hello Mr. John, Hope you are doing good.', 'By the way I have a plan to visit your house in the next week of the month']\n"
     ]
    }
   ],
   "source": [
    "from nltk.tokenize import sent_tokenize\n",
    "\n",
    "text = \"\"\"Hello Mr. John, Hope you are doing good.\n",
    "By the way I have a plan to visit your house in the next week of the month\"\"\"\n",
    "\n",
    "token_sent = sent_tokenize(text)\n",
    "print(token_sent)"
   ]
  },
  {
   "cell_type": "markdown",
   "id": "muslim-entrepreneur",
   "metadata": {},
   "source": [
    "### Word Tokenizer"
   ]
  },
  {
   "cell_type": "code",
   "execution_count": 4,
   "id": "apparent-equity",
   "metadata": {},
   "outputs": [
    {
     "name": "stdout",
     "output_type": "stream",
     "text": [
      "['Hello', 'Mr.', 'John', ',', 'Hope', 'you', 'are', 'doing', 'good', '.', 'By', 'the', 'way', 'I', 'have', 'a', 'plan', 'to', 'visit', 'your', 'house', 'in', 'the', 'next', 'week', 'of', 'the', 'month']\n"
     ]
    }
   ],
   "source": [
    "from nltk.tokenize import word_tokenize\n",
    "\n",
    "token_word = word_tokenize(text)\n",
    "print(token_word)"
   ]
  },
  {
   "cell_type": "markdown",
   "id": "general-zoning",
   "metadata": {},
   "source": [
    "### Frequency distribution"
   ]
  },
  {
   "cell_type": "code",
   "execution_count": 5,
   "id": "favorite-partition",
   "metadata": {},
   "outputs": [
    {
     "name": "stdout",
     "output_type": "stream",
     "text": [
      "<FreqDist with 26 samples and 28 outcomes>\n"
     ]
    }
   ],
   "source": [
    "from nltk.probability import FreqDist\n",
    "\n",
    "freq_dist = FreqDist(token_word)\n",
    "print(freq_dist)"
   ]
  },
  {
   "cell_type": "code",
   "execution_count": 6,
   "id": "blocked-property",
   "metadata": {},
   "outputs": [
    {
     "name": "stdout",
     "output_type": "stream",
     "text": [
      "[('the', 3), ('Hello', 1), ('Mr.', 1), ('John', 1), (',', 1), ('Hope', 1), ('you', 1), ('are', 1), ('doing', 1), ('good', 1), ('.', 1), ('By', 1), ('way', 1), ('I', 1), ('have', 1), ('a', 1), ('plan', 1), ('to', 1), ('visit', 1), ('your', 1), ('house', 1), ('in', 1), ('next', 1), ('week', 1), ('of', 1), ('month', 1)]\n"
     ]
    }
   ],
   "source": [
    "print(freq_dist.most_common())"
   ]
  },
  {
   "cell_type": "code",
   "execution_count": 7,
   "id": "bright-story",
   "metadata": {},
   "outputs": [
    {
     "data": {
      "image/png": "[encoded data removed]",
      "text/plain": [
       "<Figure size 432x288 with 1 Axes>"
      ]
     },
     "metadata": {
      "needs_background": "light"
     },
     "output_type": "display_data"
    }
   ],
   "source": [
    "import matplotlib.pyplot as plt\n",
    "\n",
    "freq_dist.plot(27,cumulative=False)\n",
    "plt.show()"
   ]
  },
  {
   "cell_type": "markdown",
   "id": "constitutional-celebration",
   "metadata": {},
   "source": [
    "### Stop Words"
   ]
  },
  {
   "cell_type": "code",
   "execution_count": 8,
   "id": "ongoing-fountain",
   "metadata": {},
   "outputs": [
    {
     "name": "stderr",
     "output_type": "stream",
     "text": [
      "[nltk_data] Downloading package stopwords to\n",
      "[nltk_data]     C:\\Users\\Joy\\AppData\\Roaming\\nltk_data...\n",
      "[nltk_data]   Package stopwords is already up-to-date!\n"
     ]
    },
    {
     "data": {
      "text/plain": [
       "True"
      ]
     },
     "execution_count": 8,
     "metadata": {},
     "output_type": "execute_result"
    }
   ],
   "source": [
    "from nltk.corpus import stopwords\n",
    "nltk.download('stopwords')\n"
   ]
  },
  {
   "cell_type": "code",
   "execution_count": 9,
   "id": "obvious-smooth",
   "metadata": {},
   "outputs": [
    {
     "name": "stdout",
     "output_type": "stream",
     "text": [
      "['i', 'me', 'my', 'myself', 'we', 'our', 'ours', 'ourselves', 'you', \"you're\", \"you've\", \"you'll\", \"you'd\", 'your', 'yours', 'yourself', 'yourselves', 'he', 'him', 'his', 'himself', 'she', \"she's\", 'her', 'hers', 'herself', 'it', \"it's\", 'its', 'itself', 'they', 'them', 'their', 'theirs', 'themselves', 'what', 'which', 'who', 'whom', 'this', 'that', \"that'll\", 'these', 'those', 'am', 'is', 'are', 'was', 'were', 'be', 'been', 'being', 'have', 'has', 'had', 'having', 'do', 'does', 'did', 'doing', 'a', 'an', 'the', 'and', 'but', 'if', 'or', 'because', 'as', 'until', 'while', 'of', 'at', 'by', 'for', 'with', 'about', 'against', 'between', 'into', 'through', 'during', 'before', 'after', 'above', 'below', 'to', 'from', 'up', 'down', 'in', 'out', 'on', 'off', 'over', 'under', 'again', 'further', 'then', 'once', 'here', 'there', 'when', 'where', 'why', 'how', 'all', 'any', 'both', 'each', 'few', 'more', 'most', 'other', 'some', 'such', 'no', 'nor', 'not', 'only', 'own', 'same', 'so', 'than', 'too', 'very', 's', 't', 'can', 'will', 'just', 'don', \"don't\", 'should', \"should've\", 'now', 'd', 'll', 'm', 'o', 're', 've', 'y', 'ain', 'aren', \"aren't\", 'couldn', \"couldn't\", 'didn', \"didn't\", 'doesn', \"doesn't\", 'hadn', \"hadn't\", 'hasn', \"hasn't\", 'haven', \"haven't\", 'isn', \"isn't\", 'ma', 'mightn', \"mightn't\", 'mustn', \"mustn't\", 'needn', \"needn't\", 'shan', \"shan't\", 'shouldn', \"shouldn't\", 'wasn', \"wasn't\", 'weren', \"weren't\", 'won', \"won't\", 'wouldn', \"wouldn't\"]\n"
     ]
    }
   ],
   "source": [
    "stop_words = stopwords.words('english')\n",
    "print(stop_words)\n"
   ]
  },
  {
   "cell_type": "markdown",
   "id": "subject-carpet",
   "metadata": {},
   "source": [
    "### Removing Stop Words"
   ]
  },
  {
   "cell_type": "code",
   "execution_count": 10,
   "id": "cellular-research",
   "metadata": {},
   "outputs": [
    {
     "name": "stdout",
     "output_type": "stream",
     "text": [
      "Token words before removing the stop words\n",
      "\n",
      "['Hello', 'Mr.', 'John', ',', 'Hope', 'you', 'are', 'doing', 'good', '.', 'By', 'the', 'way', 'I', 'have', 'a', 'plan', 'to', 'visit', 'your', 'house', 'in', 'the', 'next', 'week', 'of', 'the', 'month'] -> 28\n",
      "\n",
      "\n",
      "Token words after removing the stop words\n",
      "\n",
      "['Hello', 'Mr.', 'John', ',', 'Hope', 'good', '.', 'By', 'way', 'I', 'plan', 'visit', 'house', 'next', 'week', 'month'] -> 16\n"
     ]
    }
   ],
   "source": [
    "filtered_sent = [w for w in token_word if w not in stop_words]\n",
    "\n",
    "print(f'Token words before removing the stop words\\n\\n{token_word} -> {len(token_word)}')\n",
    "print(f'\\n\\nToken words after removing the stop words\\n\\n{filtered_sent} -> {len(filtered_sent)}')"
   ]
  },
  {
   "cell_type": "markdown",
   "id": "plastic-franchise",
   "metadata": {},
   "source": [
    "### Stemming"
   ]
  },
  {
   "cell_type": "code",
   "execution_count": 11,
   "id": "applied-coral",
   "metadata": {},
   "outputs": [
    {
     "name": "stdout",
     "output_type": "stream",
     "text": [
      "Filtered tokens \n",
      "\n",
      "['Hello', 'Mr.', 'John', ',', 'Hope', 'good', '.', 'By', 'way', 'I', 'plan', 'visit', 'house', 'next', 'week', 'month']\n",
      "Stemmed tokens \n",
      "\n",
      "['hello', 'mr.', 'john', ',', 'hope', 'good', '.', 'By', 'way', 'I', 'plan', 'visit', 'hous', 'next', 'week', 'month']\n"
     ]
    }
   ],
   "source": [
    "from nltk.stem import PorterStemmer\n",
    "\n",
    "ps = PorterStemmer()\n",
    "stemmed_words = [ps.stem(w) for w in filtered_sent]\n",
    "print(f'Filtered tokens \\n\\n{filtered_sent}')\n",
    "print(f'Stemmed tokens \\n\\n{stemmed_words}')"
   ]
  },
  {
   "cell_type": "markdown",
   "id": "humanitarian-socket",
   "metadata": {},
   "source": [
    "### Lemmatization"
   ]
  },
  {
   "cell_type": "code",
   "execution_count": 12,
   "id": "dirty-flash",
   "metadata": {},
   "outputs": [
    {
     "name": "stderr",
     "output_type": "stream",
     "text": [
      "[nltk_data] Downloading package wordnet to\n",
      "[nltk_data]     C:\\Users\\Joy\\AppData\\Roaming\\nltk_data...\n",
      "[nltk_data]   Package wordnet is already up-to-date!\n"
     ]
    },
    {
     "data": {
      "text/plain": [
       "True"
      ]
     },
     "execution_count": 12,
     "metadata": {},
     "output_type": "execute_result"
    }
   ],
   "source": [
    "nltk.download('wordnet')"
   ]
  },
  {
   "cell_type": "code",
   "execution_count": 13,
   "id": "turkish-snapshot",
   "metadata": {},
   "outputs": [
    {
     "name": "stdout",
     "output_type": "stream",
     "text": [
      "Lemmatized word : fly\n",
      "\n",
      "Stemmed word : fli\n"
     ]
    }
   ],
   "source": [
    "from nltk.stem import WordNetLemmatizer\n",
    "\n",
    "# example code to give demo on lemmatization vs Stemming\n",
    "lem = WordNetLemmatizer()\n",
    "stem = PorterStemmer()\n",
    "example_word = 'flying'\n",
    "\n",
    "print(f'Lemmatized word : {lem.lemmatize(example_word,\"v\")}')\n",
    "print(f'\\nStemmed word : {stem.stem(example_word)}')"
   ]
  },
  {
   "cell_type": "markdown",
   "id": "precise-least",
   "metadata": {},
   "source": [
    "# Chatbot Development using nltk"
   ]
  },
  {
   "cell_type": "code",
   "execution_count": 14,
   "id": "median-missouri",
   "metadata": {},
   "outputs": [],
   "source": [
    "import io\n",
    "import random\n",
    "import string\n",
    "import warnings\n",
    "import numpy as np\n",
    "\n",
    "from sklearn.feature_extraction.text import TfidfVectorizer\n",
    "from sklearn.metrics.pairwise import cosine_similarity\n",
    "warnings.filterwarnings('ignore')"
   ]
  },
  {
   "cell_type": "code",
   "execution_count": 15,
   "id": "small-conservative",
   "metadata": {},
   "outputs": [
    {
     "data": {
      "text/plain": [
       "True"
      ]
     },
     "execution_count": 15,
     "metadata": {},
     "output_type": "execute_result"
    }
   ],
   "source": [
    "# preping nltk package\n",
    "import nltk\n",
    "from nltk.stem import WordNetLemmatizer\n",
    "nltk.download('popular', quiet=True)\n",
    "\n",
    "# nltk.download('punkt')   # run only once, if downloaded already, no need to run\n",
    "# nltk.download('wordnet') # run only once"
   ]
  },
  {
   "cell_type": "markdown",
   "id": "addressed-familiar",
   "metadata": {},
   "source": [
    "### Reading in the corpus\n",
    "##### Here we are using a sample content from Wikipedia page for chatbot  as our corpus, saved in the 'chatbot.txt' file."
   ]
  },
  {
   "cell_type": "code",
   "execution_count": 16,
   "id": "laden-pledge",
   "metadata": {},
   "outputs": [],
   "source": [
    "file = open('chatbot.txt','r',errors='ignore')\n",
    "raw  = file.read()\n",
    "raw  = raw.lower()"
   ]
  },
  {
   "cell_type": "markdown",
   "id": "cellular-bachelor",
   "metadata": {},
   "source": [
    "### Tokenising the raw content"
   ]
  },
  {
   "cell_type": "code",
   "execution_count": 17,
   "id": "hydraulic-console",
   "metadata": {},
   "outputs": [],
   "source": [
    "token_sentence = nltk.sent_tokenize(raw)\n",
    "token_words    = nltk.word_tokenize(raw)"
   ]
  },
  {
   "cell_type": "markdown",
   "id": "academic-surge",
   "metadata": {},
   "source": [
    "### Preprocessing"
   ]
  },
  {
   "cell_type": "code",
   "execution_count": 18,
   "id": "opened-notification",
   "metadata": {},
   "outputs": [],
   "source": [
    "lemmer = nltk.stem.WordNetLemmatizer()\n",
    "# wordnet - nltk paackage containing sematically oriented english dictionary\n",
    "def LemTokens(tokens):\n",
    "    return [lemmer.lemmatize(token) for token in tokens]\n",
    "\n",
    "remove_punct_dict = dict((ord(punct), None) for punct in string.punctuation)\n",
    "\n",
    "def LemNormalize(text):\n",
    "    return LemTokens(nltk.word_tokenize(text.lower().translate(remove_punct_dict)))"
   ]
  },
  {
   "cell_type": "markdown",
   "id": "novel-upper",
   "metadata": {},
   "source": [
    "### Keyword matching and greeting response"
   ]
  },
  {
   "cell_type": "code",
   "execution_count": 19,
   "id": "surprising-sport",
   "metadata": {},
   "outputs": [],
   "source": [
    "# defining some greeting keywords to identify the users greeting input\n",
    "GREETING_INPUTS = (\"hello\", \"hi\", \"greetings\", \"sup\", \"what's up\", \"hey\")\n",
    "GREETING_RESPONSES = [\"hi\", \"hey\", \"*nods*\", \"hi there\", \"hello\", \"glad to meet you\"]\n",
    "\n",
    "def greeting(sentence):\n",
    "    for word in sentence.split():\n",
    "        if word.lower() in GREETING_INPUTS:\n",
    "            return random.choice(GREETING_RESPONSES)"
   ]
  },
  {
   "cell_type": "markdown",
   "id": "fabulous-income",
   "metadata": {},
   "source": [
    "### Generating bot response"
   ]
  },
  {
   "cell_type": "code",
   "execution_count": 20,
   "id": "aquatic-rocket",
   "metadata": {},
   "outputs": [],
   "source": [
    "def response(user_response):\n",
    "    robo_response = ''\n",
    "    token_sentence.append(user_response)\n",
    "    \n",
    "    TfidfVec = TfidfVectorizer(tokenizer=LemNormalize, stop_words='english')\n",
    "    tfidf    = TfidfVec.fit_transform(token_sentence)\n",
    "    \n",
    "    vals     = cosine_similarity(tfidf[-1], tfidf)\n",
    "    idx      = vals.argsort()[0][-2]\n",
    "    \n",
    "    flat     = vals.flatten()\n",
    "    flat.sort()\n",
    "    \n",
    "    req_tfidf = flat[-2]\n",
    "    if(req_tfidf==0):\n",
    "        robo_response = robo_response + \"I am sorry!, I don't understand you\"\n",
    "        return robo_response\n",
    "    else:\n",
    "        robo_response = robo_response + token_sentence[idx]\n",
    "        return robo_response"
   ]
  },
  {
   "cell_type": "code",
   "execution_count": 21,
   "id": "cosmetic-pleasure",
   "metadata": {},
   "outputs": [
    {
     "name": "stdout",
     "output_type": "stream",
     "text": [
      "Bot: My name is ISHA, do you have any query about chatbot\n",
      "hi\n",
      "ISHA: hi there\n",
      "hello\n",
      "ISHA: hi there\n",
      "hi\n",
      "ISHA: hello\n",
      "hey\n",
      "ISHA: hi\n",
      "chatbot\n",
      "ISHA: design\n",
      "the chatbot design is the process that defines the interaction between the user and the chatbot.the chatbot designer will define the chatbot personality, the questions that will be asked to the users, and the overall interaction.it can be viewed as a subset of the conversational design.\n",
      "api\n",
      "ISHA: I am sorry!, I don't understand you\n",
      "bye\n",
      "ISHA: Bye! take care...\n"
     ]
    }
   ],
   "source": [
    "# executing the functions\n",
    "\n",
    "flag = True\n",
    "print(\"Bot: My name is ISHA, do you have any query about chatbot\")\n",
    "\n",
    "while(flag==True):\n",
    "    user_response = input()\n",
    "    user_response = user_response.lower()\n",
    "    if(user_response!='bye'):\n",
    "        if(user_response=='thanks' or user_response=='thank you'):\n",
    "            flag = False\n",
    "            print(\"ISHA: You are welcome\")\n",
    "        else:\n",
    "            if(greeting(user_response)!=None):\n",
    "                print('ISHA: '+greeting(user_response))\n",
    "            else:\n",
    "                print(\"ISHA: \", end=\"\")\n",
    "                print(response(user_response))\n",
    "                token_sentence.remove(user_response)\n",
    "    else:\n",
    "        flag = False\n",
    "        print(\"ISHA: Bye! take care...\")\n",
    "        "
   ]
  },
  {
   "cell_type": "code",
   "execution_count": null,
   "id": "honest-picture",
   "metadata": {},
   "outputs": [],
   "source": []
  }
 ],
 "metadata": {
  "kernelspec": {
   "display_name": "Python 3",
   "language": "python",
   "name": "python3"
  },
  "language_info": {
   "codemirror_mode": {
    "name": "ipython",
    "version": 3
   },
   "file_extension": ".py",
   "mimetype": "text/x-python",
   "name": "python",
   "nbconvert_exporter": "python",
   "pygments_lexer": "ipython3",
   "version": "3.8.8"
  }
 },
 "nbformat": 4,
 "nbformat_minor": 5
}
