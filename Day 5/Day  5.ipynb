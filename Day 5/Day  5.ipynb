{
 "cells": [
  {
   "cell_type": "markdown",
   "metadata": {},
   "source": [
    "# Day 5 - Assignment"
   ]
  },
  {
   "cell_type": "markdown",
   "metadata": {},
   "source": [
    "##### 1. Write a Python program to find the first 20 non-even prime natural numbers."
   ]
  },
  {
   "cell_type": "code",
   "execution_count": 3,
   "metadata": {},
   "outputs": [
    {
     "name": "stdout",
     "output_type": "stream",
     "text": [
      "3  5  7  11  13  17  19  23  29  31  37  41  43  47  53  59  61  67  71  73  \n"
     ]
    }
   ],
   "source": [
    "# initialize count and num variable\n",
    "count, num = 0, 2  \n",
    "\n",
    "while(count<20):\n",
    "    for i in range(2, num):    \n",
    "        if (num % i) == 0:         #check whether the number is divisible by any other number\n",
    "            break\n",
    "    else:\n",
    "        if(num%2==0):              #check for even number\n",
    "            pass\n",
    "        else:\n",
    "            print(num, end=\"  \")\n",
    "            count+=1               #increment count\n",
    "    num = num+1                    #increment num\n",
    "    \n",
    "print()"
   ]
  },
  {
   "cell_type": "markdown",
   "metadata": {},
   "source": [
    "##### 2. Write a Python program to implement 15 functions of string"
   ]
  },
  {
   "cell_type": "code",
   "execution_count": 4,
   "metadata": {},
   "outputs": [
    {
     "name": "stdout",
     "output_type": "stream",
     "text": [
      "\n",
      "01. This is ai-ml assignment 5 and this is fun.\n",
      "\n",
      "02. Length of the string 's' is 43 \n",
      "\n",
      "03. 4\n",
      "\n",
      "04. this is ai-ml assignment 5 and this is fun.\n",
      "\n",
      "05. THIS IS AI-ML ASSIGNMENT 5 AND THIS IS FUN.\n",
      "\n",
      "06. t*h*i*s* *i*s* *A*I*-*M*L* *a*s*s*i*g*n*m*e*n*t* *5* *A*N*D* *T*h*i*s* *i*s* *f*u*n*.\n",
      "\n",
      "07. ***this is AI-ML assignment 5 AND This is fun.****\n",
      "\n",
      "08. this is AI-ML assignment 5 , replacing with fun.\n",
      "\n",
      "09. ['this', 'is', 'AI-ML', 'assignment 5 AND This is fun.'] \n",
      "\n",
      "10. THIS IS ai-ml ASSIGNMENT 5 and tHIS IS FUN.\n",
      "\n",
      "11. False \n",
      "\n",
      "12. 25 \n",
      "\n",
      "13. True \n",
      "\n",
      "14. this is AI-ML assignment 5 AND This is fun \n",
      "\n",
      "15. ('th', 'is', ' is AI-ML assignment 5 AND This is fun.') \n",
      "\n",
      "16. ('this is AI-ML assignment 5 AND This ', 'is', ' fun.') \n",
      "\n"
     ]
    }
   ],
   "source": [
    "#initialize a string variable\n",
    "s = \"this is AI-ML assignment 5 AND This is fun.\"\n",
    "\n",
    "print()\n",
    "\n",
    "print(\"01.\", s.capitalize() + '\\n')\n",
    "\n",
    "print(\"02. Length of the string 's' is\",len(s),\"\\n\")\n",
    "\n",
    "print(\"03.\",str(s.count('is',0,len(s))) + '\\n')\n",
    "\n",
    "print(\"04.\",s.lower() + '\\n')\n",
    "\n",
    "print(\"05.\",s.upper() + '\\n')\n",
    "\n",
    "print(\"06.\",\"*\".join(s) + '\\n')\n",
    "\n",
    "print(\"07.\",s.center(50, '*') + '\\n')\n",
    "\n",
    "print(\"08.\",s.replace('AND This is fun', ', replacing with fun') + '\\n')\n",
    "\n",
    "print(\"09.\",s.split(' ', 3), '\\n')\n",
    "\n",
    "print(\"10.\",s.swapcase() + '\\n')\n",
    "\n",
    "print(\"11.\",s.isalnum(), \"\\n\")\n",
    "\n",
    "print(\"12.\",s.find('5'), \"\\n\")\n",
    "\n",
    "print(\"13.\",s[25].isdigit(), \"\\n\")\n",
    "\n",
    "print(\"14.\",s.strip('.'), \"\\n\")\n",
    "\n",
    "print(\"15.\",s.partition('is'), \"\\n\")\n",
    "\n",
    "print(\"16.\",s.rpartition('is'), \"\\n\")"
   ]
  },
  {
   "cell_type": "markdown",
   "metadata": {},
   "source": [
    "##### 3. Write a Python program to check if the given string is a Palindrome or Anagram or None of them. Display the message accordingly to the user."
   ]
  },
  {
   "cell_type": "code",
   "execution_count": 2,
   "metadata": {},
   "outputs": [
    {
     "name": "stdout",
     "output_type": "stream",
     "text": [
      "\n",
      "\t\tPalindrome Anagram Checker \n",
      "\n",
      "Please enter the First word : hello\n",
      "\n",
      "Please enter the Second word : world\n",
      "\n",
      "hello : is not Palindrome \n",
      "\n",
      "world : is not Palindrome \n",
      "\n",
      "hello and world are not Anagrams \n",
      "\n",
      "hello and world both are neither palindromes nor anagrams\n",
      "\n"
     ]
    }
   ],
   "source": [
    "\n",
    "print(\"\\n\\t\\tPalindrome Anagram Checker \\n\" )\n",
    "\n",
    "#string input function\n",
    "def str_get(s):\n",
    "    flag=True\n",
    "    while(flag):\n",
    "        str1=input(\"Please enter the \" + s + \" word : \")\n",
    "        if(str1 != None and len(str1)>2):\n",
    "            flag=False\n",
    "            print()\n",
    "        else:\n",
    "            print(\"Please enter a word of atleast 3 letters \\n\")\n",
    "    return str1\n",
    "\n",
    "\n",
    "#Palindrome checker and downpoint grader\n",
    "def checkPalindrome(s,dpoint):\n",
    "    if(s == s[::-1]):\n",
    "        print(s + \" : is Palindrome \\n\")\n",
    "        return dpoint\n",
    "    else:\n",
    "        dpoint+=1\n",
    "        print(s + \" : is not Palindrome \\n\")\n",
    "        return dpoint\n",
    "\n",
    "\n",
    "#Anagram checker and downpoint grader\n",
    "def checkAnagram(s1,s2,dpoint):\n",
    "    if(sorted(s1) == sorted(s2)):\n",
    "        print(s1 + \" and \" + s2 +\" are Anagrams \\n\")\n",
    "        return dpoint\n",
    "    else:\n",
    "        dpoint+=1\n",
    "        print(s1 + \" and \" + s2 +\" are not Anagrams \\n\")\n",
    "        return dpoint\n",
    "\n",
    "\n",
    "#Main function definition\n",
    "def main():\n",
    "    str1 = str_get(\"First\")\n",
    "    str2 = str_get(\"Second\")\n",
    "    dpoint = 0\n",
    "    \n",
    "    dpoint = checkPalindrome(str1,dpoint)\n",
    "        \n",
    "    dpoint = checkPalindrome(str2,dpoint)\n",
    "        \n",
    "    dpoint = checkAnagram(str1,str2,dpoint)\n",
    "    \n",
    "    if(dpoint > 2):\n",
    "        print(str1 + \" and \" + str2 + \" both are neither palindromes nor anagrams\")\n",
    "    print()\n",
    "\n",
    "#Main execution\n",
    "main()\n"
   ]
  },
  {
   "cell_type": "markdown",
   "metadata": {},
   "source": [
    "##### 4. Write a Python's user defined function that removes all the additional characters from the string and converts it finally to lower case using built-in lower(). eg: If the string is \"Dr. Darshan Ingle@AI-ML Trainer\", then the output be \"drdarshaningleaimltrainer\"."
   ]
  },
  {
   "cell_type": "code",
   "execution_count": 6,
   "metadata": {
    "scrolled": true
   },
   "outputs": [
    {
     "name": "stdout",
     "output_type": "stream",
     "text": [
      "Please enter the String : Dr. Darshan Ingle @AI-ML Trainer\n",
      "\n",
      "Output String : drdarshaningleaimltrainer\n"
     ]
    }
   ],
   "source": [
    "#string input function\n",
    "def str_get():\n",
    "    flag=True\n",
    "    while(flag):\n",
    "        str1=input(\"Please enter the String : \")\n",
    "        if(str1 != None and len(str1)>2):\n",
    "            flag=False\n",
    "            print()\n",
    "        else:\n",
    "            print(\"Please enter a word of atleast 3 letters \\n\")\n",
    "    return str1\n",
    "\n",
    "\n",
    "#User defined special character stripping function\n",
    "def pureAlpha(s):\n",
    "    s.strip()\n",
    "    s2 = \"\"\n",
    "    for ch in s:\n",
    "        if(ch.isalpha()):\n",
    "            s2 = s2 + ch\n",
    "    s2 = s2.lower()\n",
    "    return s2\n",
    "\n",
    "\n",
    "#Main function definition\n",
    "def main():\n",
    "    str1 = str_get()\n",
    "    str1 = pureAlpha(str1)\n",
    "    print(\"Output String : \" + str1)\n",
    "\n",
    "\n",
    "#Main execution\n",
    "main()\n"
   ]
  }
 ],
 "metadata": {
  "kernelspec": {
   "display_name": "Python 3",
   "language": "python",
   "name": "python3"
  },
  "language_info": {
   "codemirror_mode": {
    "name": "ipython",
    "version": 3
   },
   "file_extension": ".py",
   "mimetype": "text/x-python",
   "name": "python",
   "nbconvert_exporter": "python",
   "pygments_lexer": "ipython3",
   "version": "3.7.6"
  }
 },
 "nbformat": 4,
 "nbformat_minor": 4
}
