{
 "cells": [
  {
   "cell_type": "code",
   "execution_count": 1,
   "metadata": {},
   "outputs": [],
   "source": [
    "import pandas as pd\n",
    "\n",
    "from sklearn import preprocessing\n",
    "\n",
    "from sklearn.model_selection import train_test_split\n",
    "\n",
    "from sklearn.metrics import accuracy_score\n",
    "from sklearn.metrics import confusion_matrix\n",
    "\n",
    "dataset = pd.read_csv(\"Dataset/train.csv\")\n",
    "dataset = dataset.drop([\"Name\",\"Ticket\",\"Cabin\",\"PassengerId\"],axis=1)\n"
   ]
  },
  {
   "cell_type": "code",
   "execution_count": 2,
   "metadata": {},
   "outputs": [
    {
     "name": "stdout",
     "output_type": "stream",
     "text": [
      "['female' 'male']\n",
      "['C' 'Q' 'S']\n"
     ]
    }
   ],
   "source": [
    "le=preprocessing.LabelEncoder()\n",
    "\n",
    "le.fit(dataset[\"Sex\"])\n",
    "print(le.classes_)\n",
    "dataset[\"Sex\"] = le.transform(dataset[\"Sex\"])\n",
    "\n",
    "le.fit(dataset[\"Embarked\"])\n",
    "print(le.classes_)\n",
    "dataset[\"Embarked\"] = le.transform(dataset[\"Embarked\"])\n"
   ]
  },
  {
   "cell_type": "code",
   "execution_count": 3,
   "metadata": {},
   "outputs": [],
   "source": [
    "from sklearn import neighbors\n",
    "\n",
    "y=dataset[\"Pclass\"]\n",
    "X=dataset.drop([\"Pclass\"],axis=1)\n",
    "\n",
    "X_train,X_test,y_train,y_test = train_test_split(X,y,test_size=0.3,random_state=0)\n",
    "\n",
    "total_vals = y_test.count()"
   ]
  },
  {
   "cell_type": "markdown",
   "metadata": {},
   "source": [
    "### Defining custom function for k value iteration"
   ]
  },
  {
   "cell_type": "code",
   "execution_count": 4,
   "metadata": {},
   "outputs": [],
   "source": [
    "def accuracy_fun(k):\n",
    "    knn=neighbors.KNeighborsClassifier(n_neighbors=k)\n",
    "    return knn.fit(X_train,y_train).score(X_test,y_test)"
   ]
  },
  {
   "cell_type": "markdown",
   "metadata": {},
   "source": [
    "### Applying the function in a for loop"
   ]
  },
  {
   "cell_type": "code",
   "execution_count": 5,
   "metadata": {},
   "outputs": [],
   "source": [
    "lst = []\n",
    "\n",
    "for i in range(1, total_vals+1):\n",
    "    lst.append(accuracy_fun(i))"
   ]
  },
  {
   "cell_type": "markdown",
   "metadata": {},
   "source": [
    "### Now getting the Max percentage value from the list with its k value"
   ]
  },
  {
   "cell_type": "code",
   "execution_count": 6,
   "metadata": {},
   "outputs": [
    {
     "name": "stdout",
     "output_type": "stream",
     "text": [
      "Maximum accuracy of, 89.14% is obtained at k=1\n"
     ]
    }
   ],
   "source": [
    "maxpercent = max(lst)\n",
    "maxpos     = lst.index(maxpercent)\n",
    "\n",
    "print(\"Maximum accuracy of, \"+ str(round(maxpercent*100,2)) +\"% is obtained at k=\"+str(maxpos+1))"
   ]
  },
  {
   "cell_type": "markdown",
   "metadata": {},
   "source": [
    "### Applying the k value obtained to create the confusion matrix."
   ]
  },
  {
   "cell_type": "code",
   "execution_count": 7,
   "metadata": {},
   "outputs": [
    {
     "data": {
      "text/plain": [
       "0.8913857677902621"
      ]
     },
     "execution_count": 7,
     "metadata": {},
     "output_type": "execute_result"
    }
   ],
   "source": [
    "k=maxpos+1\n",
    "\n",
    "knn=neighbors.KNeighborsClassifier(n_neighbors=k)\n",
    "knn.fit(X_train,y_train).score(X_test,y_test)"
   ]
  },
  {
   "cell_type": "code",
   "execution_count": 8,
   "metadata": {},
   "outputs": [],
   "source": [
    "y_pred = knn.predict(X_test)"
   ]
  },
  {
   "cell_type": "code",
   "execution_count": 9,
   "metadata": {},
   "outputs": [
    {
     "data": {
      "text/plain": [
       "array([[ 62,   6,   2],\n",
       "       [  3,  37,   9],\n",
       "       [  1,   8, 139]], dtype=int64)"
      ]
     },
     "execution_count": 9,
     "metadata": {},
     "output_type": "execute_result"
    }
   ],
   "source": [
    "confusion_matrix(y_test,y_pred)"
   ]
  },
  {
   "cell_type": "code",
   "execution_count": 10,
   "metadata": {},
   "outputs": [
    {
     "data": {
      "image/png": "[encoded data removed]",
      "text/plain": [
       "<Figure size 432x288 with 1 Axes>"
      ]
     },
     "metadata": {
      "needs_background": "light"
     },
     "output_type": "display_data"
    }
   ],
   "source": [
    "import matplotlib.pyplot as plt \n",
    "   \n",
    "x = [*range(1,len(lst)+1)] \n",
    "y = lst \n",
    " \n",
    "plt.plot(x, y) \n",
    "  \n",
    "plt.xlabel('K - value') \n",
    "plt.ylabel('Accuracy score') \n",
    " \n",
    "plt.title('k-value Vs Accuracy Score') \n",
    "\n",
    "plt.show() "
   ]
  },
  {
   "cell_type": "code",
   "execution_count": null,
   "metadata": {},
   "outputs": [],
   "source": []
  }
 ],
 "metadata": {
  "kernelspec": {
   "display_name": "Python 3",
   "language": "python",
   "name": "python3"
  },
  "language_info": {
   "codemirror_mode": {
    "name": "ipython",
    "version": 3
   },
   "file_extension": ".py",
   "mimetype": "text/x-python",
   "name": "python",
   "nbconvert_exporter": "python",
   "pygments_lexer": "ipython3",
   "version": "3.7.7"
  }
 },
 "nbformat": 4,
 "nbformat_minor": 4
}
