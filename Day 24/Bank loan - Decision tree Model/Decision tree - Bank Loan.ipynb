{
 "cells": [
  {
   "cell_type": "code",
   "execution_count": 1,
   "metadata": {},
   "outputs": [],
   "source": [
    "import pandas as pd\n",
    "dataset = pd.read_excel('Dataset/Bank_Personal_Loan_Modelling.xlsx',sheet_name='Data')"
   ]
  },
  {
   "cell_type": "code",
   "execution_count": 2,
   "metadata": {},
   "outputs": [
    {
     "data": {
      "text/plain": [
       "Index(['ID', 'Age', 'Experience', 'Income', 'ZIP Code', 'Family', 'CCAvg',\n",
       "       'Education', 'Mortgage', 'Personal Loan', 'Securities Account',\n",
       "       'CD Account', 'Online', 'CreditCard'],\n",
       "      dtype='object')"
      ]
     },
     "execution_count": 2,
     "metadata": {},
     "output_type": "execute_result"
    }
   ],
   "source": [
    "dataset.columns"
   ]
  },
  {
   "cell_type": "code",
   "execution_count": 3,
   "metadata": {},
   "outputs": [
    {
     "data": {
      "text/plain": [
       "Index(['Age', 'Experience', 'Income', 'Family', 'CCAvg', 'Education',\n",
       "       'Mortgage', 'Personal Loan', 'Securities Account', 'CD Account',\n",
       "       'Online', 'CreditCard'],\n",
       "      dtype='object')"
      ]
     },
     "execution_count": 3,
     "metadata": {},
     "output_type": "execute_result"
    }
   ],
   "source": [
    "dataset1=dataset.drop(['ID', 'ZIP Code'], axis=1)\n",
    "dataset1.columns"
   ]
  },
  {
   "cell_type": "code",
   "execution_count": 4,
   "metadata": {},
   "outputs": [],
   "source": [
    "dataset2 = dataset1.dropna()\n",
    "dataset3 = dataset2.drop_duplicates()"
   ]
  },
  {
   "cell_type": "code",
   "execution_count": 5,
   "metadata": {},
   "outputs": [
    {
     "name": "stderr",
     "output_type": "stream",
     "text": [
      "C:\\Users\\Joy\\anaconda3\\lib\\site-packages\\ipykernel_launcher.py:2: SettingWithCopyWarning: \n",
      "A value is trying to be set on a copy of a slice from a DataFrame.\n",
      "Try using .loc[row_indexer,col_indexer] = value instead\n",
      "\n",
      "See the caveats in the documentation: https://pandas.pydata.org/pandas-docs/stable/user_guide/indexing.html#returning-a-view-versus-a-copy\n",
      "  \n"
     ]
    }
   ],
   "source": [
    "import numpy as np\n",
    "dataset3[\"CCAvg\"] = np.round(dataset3[\"CCAvg\"])\n"
   ]
  },
  {
   "cell_type": "code",
   "execution_count": 6,
   "metadata": {},
   "outputs": [
    {
     "data": {
      "text/plain": [
       "RandomForestClassifier(max_features=2, n_estimators=1000, oob_score=True)"
      ]
     },
     "execution_count": 6,
     "metadata": {},
     "output_type": "execute_result"
    }
   ],
   "source": [
    "from sklearn.ensemble import RandomForestClassifier\n",
    "\n",
    "rf_model = RandomForestClassifier(n_estimators=1000,max_features=2,oob_score=True)\n",
    "\n",
    "features = ['Age','Experience','Income','Family','CCAvg','Education','Mortgage','Securities Account','CD Account','Online','CreditCard']\n",
    "\n",
    "rf_model.fit(X=dataset3[features],y=dataset3[\"Personal Loan\"])"
   ]
  },
  {
   "cell_type": "code",
   "execution_count": 7,
   "metadata": {},
   "outputs": [
    {
     "name": "stdout",
     "output_type": "stream",
     "text": [
      "OOB Accuracy score:  0.986164026468819\n"
     ]
    }
   ],
   "source": [
    "print(\"OOB Accuracy score: \", rf_model.oob_score_)"
   ]
  },
  {
   "cell_type": "markdown",
   "metadata": {},
   "source": [
    "#### Sorting out the Important variables"
   ]
  },
  {
   "cell_type": "code",
   "execution_count": 8,
   "metadata": {},
   "outputs": [
    {
     "name": "stdout",
     "output_type": "stream",
     "text": [
      "Age     \t: 0.05099975756395016\n",
      "Experience     \t: 0.05118737974909637\n",
      "Income     \t: 0.36065658614213125\n",
      "Family     \t: 0.10389075637715041\n",
      "CCAvg     \t: 0.1385979019421533\n",
      "Education     \t: 0.1651343128333275\n",
      "Mortgage     \t: 0.047771058406858885\n",
      "Securities Account     \t: 0.006374218620408789\n",
      "CD Account     \t: 0.05468560914866897\n",
      "Online     \t: 0.009456695136869224\n",
      "CreditCard     \t: 0.011245724079385079\n"
     ]
    }
   ],
   "source": [
    "for feature,imp in zip(features,rf_model.feature_importances_):\n",
    "    print(feature, \"    \\t:\", imp)"
   ]
  },
  {
   "cell_type": "markdown",
   "metadata": {},
   "source": [
    "#### The variables with higher importance value :\n",
    "##### ______1. income\n",
    "##### ______2. CCAvg\n",
    "##### ______3. Education   \n",
    "\n",
    "#### Taking these variables to fit in the model "
   ]
  },
  {
   "cell_type": "code",
   "execution_count": 9,
   "metadata": {},
   "outputs": [
    {
     "data": {
      "text/plain": [
       "DecisionTreeClassifier(max_depth=6, max_leaf_nodes=12)"
      ]
     },
     "execution_count": 9,
     "metadata": {},
     "output_type": "execute_result"
    }
   ],
   "source": [
    "from sklearn import tree\n",
    "\n",
    "tree_model = tree.DecisionTreeClassifier(max_depth=6, max_leaf_nodes=12)\n",
    "\n",
    "cl_data = pd.DataFrame([dataset3[\"Education\"],dataset3[\"CCAvg\"],dataset3[\"Income\"]]).T\n",
    "\n",
    "tree_model.fit(X=cl_data,y=dataset3[\"Personal Loan\"])"
   ]
  },
  {
   "cell_type": "code",
   "execution_count": 10,
   "metadata": {},
   "outputs": [],
   "source": [
    "with open(\"Dtree_bank_loan.dot\",\"w\") as f:\n",
    "    f=tree.export_graphviz(tree_model,feature_names=[\"Education\",\"CCAvg\",\"Income\"],out_file=f)"
   ]
  },
  {
   "cell_type": "markdown",
   "metadata": {},
   "source": [
    "### Rules for Loan Sanctions"
   ]
  },
  {
   "cell_type": "markdown",
   "metadata": {},
   "source": [
    "##### 1. Person having income more than 106.5, with CCAvg more than 2.5 have a high chance of getting the loan.\n",
    "##### 2. Person having income more than 88.5, with Education level 2 or more have a high chance of getting the loan.\n",
    "##### 3. Person having income more than 92.5, with Education level 3 or more have a high chance of getting the loan.\n",
    "##### 4. Person having income more than 116.5, with Education level 2 or more have a high chance of getting the loan.\n",
    "##### 5. Person having income more than 116.5, with CCAvg more than 3.5 have a high chance of getting the loan."
   ]
  },
  {
   "cell_type": "code",
   "execution_count": null,
   "metadata": {},
   "outputs": [],
   "source": []
  }
 ],
 "metadata": {
  "kernelspec": {
   "display_name": "Python 3",
   "language": "python",
   "name": "python3"
  },
  "language_info": {
   "codemirror_mode": {
    "name": "ipython",
    "version": 3
   },
   "file_extension": ".py",
   "mimetype": "text/x-python",
   "name": "python",
   "nbconvert_exporter": "python",
   "pygments_lexer": "ipython3",
   "version": "3.7.7"
  }
 },
 "nbformat": 4,
 "nbformat_minor": 4
}
