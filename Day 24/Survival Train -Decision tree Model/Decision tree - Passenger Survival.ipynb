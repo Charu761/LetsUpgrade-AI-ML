{
 "cells": [
  {
   "cell_type": "markdown",
   "metadata": {},
   "source": [
    "## Classifying And Predicting the survivability of the passangers given in the dataset."
   ]
  },
  {
   "cell_type": "markdown",
   "metadata": {},
   "source": [
    "### Classification using the decision tree"
   ]
  },
  {
   "cell_type": "code",
   "execution_count": 1,
   "metadata": {},
   "outputs": [
    {
     "data": {
      "text/plain": [
       "PassengerId      0\n",
       "Survived         0\n",
       "Pclass           0\n",
       "Name             0\n",
       "Sex              0\n",
       "Age              0\n",
       "SibSp            0\n",
       "Parch            0\n",
       "Ticket           0\n",
       "Fare             0\n",
       "Cabin          687\n",
       "Embarked         0\n",
       "dtype: int64"
      ]
     },
     "execution_count": 1,
     "metadata": {},
     "output_type": "execute_result"
    }
   ],
   "source": [
    "import pandas as pd\n",
    "import numpy as np\n",
    "from sklearn import tree\n",
    "from sklearn.ensemble import RandomForestClassifier\n",
    "from sklearn import preprocessing as pp\n",
    "\n",
    "trainData = pd.read_csv(\"Dataset/train.csv\")\n",
    "\n",
    "trainData.isnull().sum()"
   ]
  },
  {
   "cell_type": "markdown",
   "metadata": {},
   "source": [
    "#### So no null cells in the required variable columns "
   ]
  },
  {
   "cell_type": "code",
   "execution_count": 2,
   "metadata": {},
   "outputs": [],
   "source": [
    "encoded_gender = pp.LabelEncoder().fit_transform(trainData['Sex'])"
   ]
  },
  {
   "cell_type": "code",
   "execution_count": 3,
   "metadata": {},
   "outputs": [
    {
     "data": {
      "text/plain": [
       "DecisionTreeClassifier(max_depth=6)"
      ]
     },
     "execution_count": 3,
     "metadata": {},
     "output_type": "execute_result"
    }
   ],
   "source": [
    "classify = pd.DataFrame([trainData['Pclass'],trainData['Age'],encoded_gender,trainData['Fare']]).T\n",
    "\n",
    "tree_model = tree.DecisionTreeClassifier(max_depth=6)\n",
    "\n",
    "tree_model.fit(X=classify,y=trainData['Survived'])"
   ]
  },
  {
   "cell_type": "code",
   "execution_count": 4,
   "metadata": {},
   "outputs": [],
   "source": [
    "with open(\"Dtree.dot\",\"w\") as f:\n",
    "    f=tree.export_graphviz(tree_model,feature_names=[\"Pclass\",\"Age\",\"Sex\",\"Fare\"],out_file=f)"
   ]
  },
  {
   "cell_type": "markdown",
   "metadata": {},
   "source": [
    "### Too big tree\n",
    "### We will use the Random forest to get the important variables to minimize the tree"
   ]
  },
  {
   "cell_type": "markdown",
   "metadata": {},
   "source": [
    "### After the Classification has done, the tree model is generated\n",
    "\n",
    "#### Below we have the accuracy of the trained model"
   ]
  },
  {
   "cell_type": "code",
   "execution_count": 5,
   "metadata": {},
   "outputs": [
    {
     "data": {
      "text/plain": [
       "0.8627671541057368"
      ]
     },
     "execution_count": 5,
     "metadata": {},
     "output_type": "execute_result"
    }
   ],
   "source": [
    "tree_model.score(X=classify,y=trainData[\"Survived\"])"
   ]
  },
  {
   "cell_type": "markdown",
   "metadata": {},
   "source": [
    "## =========================================================================\n",
    "## Now creating the predictive model using the test dataset"
   ]
  },
  {
   "cell_type": "code",
   "execution_count": 6,
   "metadata": {},
   "outputs": [
    {
     "data": {
      "text/html": [
       "<div>\n",
       "<style scoped>\n",
       "    .dataframe tbody tr th:only-of-type {\n",
       "        vertical-align: middle;\n",
       "    }\n",
       "\n",
       "    .dataframe tbody tr th {\n",
       "        vertical-align: top;\n",
       "    }\n",
       "\n",
       "    .dataframe thead th {\n",
       "        text-align: right;\n",
       "    }\n",
       "</style>\n",
       "<table border=\"1\" class=\"dataframe\">\n",
       "  <thead>\n",
       "    <tr style=\"text-align: right;\">\n",
       "      <th></th>\n",
       "      <th>PassengerId</th>\n",
       "      <th>Survived</th>\n",
       "    </tr>\n",
       "  </thead>\n",
       "  <tbody>\n",
       "    <tr>\n",
       "      <th>0</th>\n",
       "      <td>892</td>\n",
       "      <td>0</td>\n",
       "    </tr>\n",
       "    <tr>\n",
       "      <th>1</th>\n",
       "      <td>893</td>\n",
       "      <td>1</td>\n",
       "    </tr>\n",
       "    <tr>\n",
       "      <th>2</th>\n",
       "      <td>894</td>\n",
       "      <td>0</td>\n",
       "    </tr>\n",
       "    <tr>\n",
       "      <th>3</th>\n",
       "      <td>895</td>\n",
       "      <td>0</td>\n",
       "    </tr>\n",
       "    <tr>\n",
       "      <th>4</th>\n",
       "      <td>896</td>\n",
       "      <td>0</td>\n",
       "    </tr>\n",
       "  </tbody>\n",
       "</table>\n",
       "</div>"
      ],
      "text/plain": [
       "   PassengerId  Survived\n",
       "0          892         0\n",
       "1          893         1\n",
       "2          894         0\n",
       "3          895         0\n",
       "4          896         0"
      ]
     },
     "execution_count": 6,
     "metadata": {},
     "output_type": "execute_result"
    }
   ],
   "source": [
    "testData =  pd.read_csv(\"Dataset/test.csv\")\n",
    "\n",
    "testData['Sex'] = pp.LabelEncoder().fit_transform(testData['Sex'])\n",
    "\n",
    "test_features = pd.DataFrame([testData['Pclass'],testData['Age'],testData['Sex'],testData['Fare']]).T\n",
    "\n",
    "test_predict = tree_model.predict(X=test_features)\n",
    "\n",
    "predicted_data = pd.DataFrame({\"PassengerId\":testData['PassengerId'],\"Survived\":test_predict})\n",
    "\n",
    "#Output file created\n",
    "predicted_data.to_csv(\"Predicted_output.csv\",index=False)\n",
    "\n",
    "predicted_data.head()"
   ]
  },
  {
   "cell_type": "markdown",
   "metadata": {},
   "source": [
    "## =========================================================================\n",
    "## Now applying RandomForestClassifier"
   ]
  },
  {
   "cell_type": "code",
   "execution_count": 7,
   "metadata": {},
   "outputs": [],
   "source": [
    "trainData['Sex']      = pp.LabelEncoder().fit_transform(trainData['Sex'])\n",
    "trainData['Embarked'] = pp.LabelEncoder().fit_transform(trainData['Embarked'])\n",
    "\n",
    "trainData['Age']  = np.round(trainData['Age'])\n",
    "trainData['Fare'] = np.round(trainData['Fare'])"
   ]
  },
  {
   "cell_type": "code",
   "execution_count": 8,
   "metadata": {},
   "outputs": [
    {
     "data": {
      "text/plain": [
       "RandomForestClassifier(max_features=2, n_estimators=1000, oob_score=True)"
      ]
     },
     "execution_count": 8,
     "metadata": {},
     "output_type": "execute_result"
    }
   ],
   "source": [
    "rf_model = RandomForestClassifier(n_estimators=1000,max_features=2,oob_score=True)\n",
    "\n",
    "features=[\"Pclass\",\"Sex\",\"Age\",\"SibSp\",\"Fare\",\"Embarked\"]\n",
    "\n",
    "rf_model.fit(X=trainData[features],y=trainData['Survived'])"
   ]
  },
  {
   "cell_type": "code",
   "execution_count": 9,
   "metadata": {},
   "outputs": [
    {
     "name": "stdout",
     "output_type": "stream",
     "text": [
      "OOB Accuracy score:  0.8110236220472441\n"
     ]
    }
   ],
   "source": [
    "print(\"OOB Accuracy score: \", rf_model.oob_score_)"
   ]
  },
  {
   "cell_type": "code",
   "execution_count": 10,
   "metadata": {},
   "outputs": [
    {
     "name": "stdout",
     "output_type": "stream",
     "text": [
      "Pclass \t:  0.09664082784881883\n",
      "Sex \t:  0.2830930497424547\n",
      "Age \t:  0.3001951951608912\n",
      "SibSp \t:  0.05555661631118755\n",
      "Fare \t:  0.22640227784765757\n",
      "Embarked \t:  0.038112033088990055\n"
     ]
    }
   ],
   "source": [
    "for feature, imp in zip(features, rf_model.feature_importances_):\n",
    "    print(feature,\"\\t: \", imp)"
   ]
  },
  {
   "cell_type": "markdown",
   "metadata": {},
   "source": [
    "### Only \"Age\", \"Sex\", \"Fare\" has the higher value compare to others so only these variables are the important ones.\n",
    "\n",
    "### Now only taking the important variables for Decision Tree"
   ]
  },
  {
   "cell_type": "code",
   "execution_count": 14,
   "metadata": {},
   "outputs": [
    {
     "data": {
      "text/plain": [
       "DecisionTreeClassifier(max_depth=6, max_leaf_nodes=12)"
      ]
     },
     "execution_count": 14,
     "metadata": {},
     "output_type": "execute_result"
    }
   ],
   "source": [
    "tree_model = tree.DecisionTreeClassifier(max_depth=6, max_leaf_nodes=12)\n",
    "\n",
    "cl_data = pd.DataFrame([trainData[\"Age\"],trainData[\"Sex\"],trainData[\"Fare\"]]).T\n",
    "\n",
    "tree_model.fit(X=cl_data,y=trainData[\"Survived\"])"
   ]
  },
  {
   "cell_type": "code",
   "execution_count": 15,
   "metadata": {},
   "outputs": [
    {
     "data": {
      "text/plain": [
       "0.8076490438695163"
      ]
     },
     "execution_count": 15,
     "metadata": {},
     "output_type": "execute_result"
    }
   ],
   "source": [
    "tree_model.score(X=cl_data,y=trainData[\"Survived\"])"
   ]
  },
  {
   "cell_type": "code",
   "execution_count": 16,
   "metadata": {},
   "outputs": [],
   "source": [
    "with open(\"Dtree_Survived.dot\",\"w\") as f:\n",
    "    f=tree.export_graphviz(tree_model,feature_names=[\"Age\",\"Sex\",\"Fare\"],out_file=f)"
   ]
  },
  {
   "cell_type": "markdown",
   "metadata": {},
   "source": [
    "## Survival Conditions"
   ]
  },
  {
   "cell_type": "markdown",
   "metadata": {},
   "source": [
    "##### 1. If the person is female and have paid fair more than 44.5, then the survivability is high.\n",
    "##### 2. If the person is female and have paid fair more than 48.5 and age is more than 8 years, then the survivability is high. \n",
    "##### 3. If the person is male and the age is more than 6.5 years and paid fare more than 27, then the survivability is high.\n",
    "##### 4. If the person is male and the age is more than 13.5 years and paid fare between 25.5 and 27 , then the survivability is high.\n",
    "##### 5. If the person is male and the age is more than 47.5 years and paid fare between 25.5 and 387.5, then the survivability is high.\n",
    "##### 6. If the person is male and the age is more than 6.5 years and paid fare more than 387.5, then the survivability is high.\n"
   ]
  },
  {
   "cell_type": "code",
   "execution_count": null,
   "metadata": {},
   "outputs": [],
   "source": []
  }
 ],
 "metadata": {
  "kernelspec": {
   "display_name": "Python 3",
   "language": "python",
   "name": "python3"
  },
  "language_info": {
   "codemirror_mode": {
    "name": "ipython",
    "version": 3
   },
   "file_extension": ".py",
   "mimetype": "text/x-python",
   "name": "python",
   "nbconvert_exporter": "python",
   "pygments_lexer": "ipython3",
   "version": "3.7.7"
  }
 },
 "nbformat": 4,
 "nbformat_minor": 4
}
