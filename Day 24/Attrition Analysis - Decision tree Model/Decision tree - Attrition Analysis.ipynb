{
 "cells": [
  {
   "cell_type": "code",
   "execution_count": 1,
   "metadata": {
    "scrolled": true
   },
   "outputs": [],
   "source": [
    "import pandas as pd\n",
    "import numpy as np\n",
    "dataset = pd.read_csv('Dataset/general_data.csv')"
   ]
  },
  {
   "cell_type": "code",
   "execution_count": 2,
   "metadata": {},
   "outputs": [],
   "source": [
    "from sklearn import preprocessing as pp\n",
    "\n",
    "df = dataset\n",
    "df['Attrition']      = pp.LabelEncoder().fit_transform(df['Attrition'])\n",
    "df['BusinessTravel'] = pp.LabelEncoder().fit_transform(df['BusinessTravel'])\n",
    "df['Department']     = pp.LabelEncoder().fit_transform(df['Department'])\n",
    "df['EducationField'] = pp.LabelEncoder().fit_transform(df['EducationField'])\n",
    "df['Gender']         = pp.LabelEncoder().fit_transform(df['Gender'])\n",
    "df['JobRole']        = pp.LabelEncoder().fit_transform(df['JobRole'])\n",
    "df['MaritalStatus']  = pp.LabelEncoder().fit_transform(df['MaritalStatus'])\n"
   ]
  },
  {
   "cell_type": "code",
   "execution_count": 3,
   "metadata": {},
   "outputs": [
    {
     "name": "stderr",
     "output_type": "stream",
     "text": [
      "C:\\Users\\Joy\\anaconda3\\lib\\site-packages\\ipykernel_launcher.py:6: SettingWithCopyWarning: \n",
      "A value is trying to be set on a copy of a slice from a DataFrame.\n",
      "Try using .loc[row_indexer,col_indexer] = value instead\n",
      "\n",
      "See the caveats in the documentation: https://pandas.pydata.org/pandas-docs/stable/user_guide/indexing.html#returning-a-view-versus-a-copy\n",
      "  \n",
      "C:\\Users\\Joy\\anaconda3\\lib\\site-packages\\ipykernel_launcher.py:7: SettingWithCopyWarning: \n",
      "A value is trying to be set on a copy of a slice from a DataFrame.\n",
      "Try using .loc[row_indexer,col_indexer] = value instead\n",
      "\n",
      "See the caveats in the documentation: https://pandas.pydata.org/pandas-docs/stable/user_guide/indexing.html#returning-a-view-versus-a-copy\n",
      "  import sys\n"
     ]
    },
    {
     "data": {
      "text/plain": [
       "Index(['Age', 'Attrition', 'BusinessTravel', 'Department', 'DistanceFromHome',\n",
       "       'Education', 'EducationField', 'Gender', 'JobLevel', 'JobRole',\n",
       "       'MaritalStatus', 'MonthlyIncome', 'NumCompaniesWorked',\n",
       "       'PercentSalaryHike', 'StockOptionLevel', 'TotalWorkingYears',\n",
       "       'TrainingTimesLastYear', 'YearsAtCompany', 'YearsSinceLastPromotion',\n",
       "       'YearsWithCurrManager'],\n",
       "      dtype='object')"
      ]
     },
     "execution_count": 3,
     "metadata": {},
     "output_type": "execute_result"
    }
   ],
   "source": [
    "df1 = df.drop(['EmployeeCount','EmployeeID','Over18','StandardHours'], axis=1)\n",
    "\n",
    "df1 = df1.dropna()\n",
    "df2 = df1.drop_duplicates()\n",
    "\n",
    "df2['TotalWorkingYears'] = np.round(df1['TotalWorkingYears'])\n",
    "df2['MonthlyIncome']     = np.round(df1['MonthlyIncome'])\n",
    "\n",
    "df2.columns"
   ]
  },
  {
   "cell_type": "code",
   "execution_count": 4,
   "metadata": {},
   "outputs": [
    {
     "data": {
      "text/plain": [
       "RandomForestClassifier(max_features=2, n_estimators=1000, oob_score=True)"
      ]
     },
     "execution_count": 4,
     "metadata": {},
     "output_type": "execute_result"
    }
   ],
   "source": [
    "from sklearn.ensemble import RandomForestClassifier\n",
    "\n",
    "rf_model = RandomForestClassifier(n_estimators=1000,max_features=2,oob_score=True)\n",
    "\n",
    "features = ['Age','BusinessTravel','Department','DistanceFromHome','Education','EducationField','Gender','JobLevel','JobRole','MaritalStatus','MonthlyIncome','NumCompaniesWorked','PercentSalaryHike','StockOptionLevel','TotalWorkingYears','TrainingTimesLastYear','YearsAtCompany','YearsSinceLastPromotion','YearsWithCurrManager']\n",
    "\n",
    "rf_model.fit(X=df2[features],y=df2[\"Attrition\"])"
   ]
  },
  {
   "cell_type": "code",
   "execution_count": 5,
   "metadata": {},
   "outputs": [
    {
     "name": "stdout",
     "output_type": "stream",
     "text": [
      "OOB Accuracy score:  0.8435374149659864\n"
     ]
    }
   ],
   "source": [
    "print(\"OOB Accuracy score: \", rf_model.oob_score_)"
   ]
  },
  {
   "cell_type": "code",
   "execution_count": 20,
   "metadata": {},
   "outputs": [
    {
     "name": "stdout",
     "output_type": "stream",
     "text": [
      "Age     \u0000\t: 0.09852488510388213\n",
      "BusinessTravel     \u0000\t: 0.02770405623412496\n",
      "Department     \u0000\t: 0.026328463168833662\n",
      "DistanceFromHome     \u0000\t: 0.06818625439712718\n",
      "Education     \u0000\t: 0.039904481182891194\n",
      "EducationField     \u0000\t: 0.041648401211808225\n",
      "Gender     \u0000\t: 0.0186656353184396\n",
      "JobLevel     \u0000\t: 0.03755174955068577\n",
      "JobRole     \u0000\t: 0.054915046948035146\n",
      "MaritalStatus     \u0000\t: 0.03912653520472101\n",
      "MonthlyIncome     \u0000\t: 0.09366782127599364\n",
      "NumCompaniesWorked     \u0000\t: 0.05586304925372595\n",
      "PercentSalaryHike     \u0000\t: 0.06561988914637865\n",
      "StockOptionLevel     \u0000\t: 0.03359604522747235\n",
      "TotalWorkingYears     \u0000\t: 0.08696108257433229\n",
      "TrainingTimesLastYear     \u0000\t: 0.04418301437360989\n",
      "YearsAtCompany     \u0000\t: 0.06843071882564983\n",
      "YearsSinceLastPromotion     \u0000\t: 0.04434878603852514\n",
      "YearsWithCurrManager     \u0000\t: 0.054774084963763514\n"
     ]
    }
   ],
   "source": [
    "for feature,imp in zip(features,rf_model.feature_importances_):\n",
    "    print(feature, \"    \\t:\", imp)"
   ]
  },
  {
   "cell_type": "markdown",
   "metadata": {},
   "source": [
    "#### The variables with higher importance value :\n",
    "##### ______1. Age\n",
    "##### ______2. MonthlyIncome\n",
    "##### ______3. TotalWorkingYears  \n",
    "\n",
    "#### Taking these variables to fit in the model "
   ]
  },
  {
   "cell_type": "code",
   "execution_count": 21,
   "metadata": {},
   "outputs": [
    {
     "data": {
      "text/plain": [
       "DecisionTreeClassifier(max_depth=6, max_leaf_nodes=12)"
      ]
     },
     "execution_count": 21,
     "metadata": {},
     "output_type": "execute_result"
    }
   ],
   "source": [
    "from sklearn import tree\n",
    "\n",
    "tree_model = tree.DecisionTreeClassifier(max_depth=6, max_leaf_nodes=12)\n",
    "\n",
    "cl_data = pd.DataFrame([df2[\"Age\"],df2[\"MonthlyIncome\"],df2[\"TotalWorkingYears\"]]).T\n",
    "\n",
    "tree_model.fit(X=cl_data,y=df2[\"Attrition\"])"
   ]
  },
  {
   "cell_type": "code",
   "execution_count": 22,
   "metadata": {},
   "outputs": [],
   "source": [
    "with open(\"Dtree_Attrition.dot\",\"w\") as f:\n",
    "    f=tree.export_graphviz(tree_model,feature_names=[\"Age\",\"MonthlyIncome\",\"TotalWorkingYears\"],out_file=f)"
   ]
  },
  {
   "cell_type": "markdown",
   "metadata": {},
   "source": [
    "### Causes for attrition occurances"
   ]
  },
  {
   "cell_type": "markdown",
   "metadata": {},
   "source": [
    "##### 1. Person having experience less than 1.5 years and age is less than 33.5 then attrition occurance is high.\n",
    "##### 2. Person having experience less than 1.5 years and age is less than 33.5 and Monthly Income < 112610 then attrition occurance is high.\n",
    "##### 3. Person having experience less than 1.5 years and age is less than 23.5 and Monthly Income < 23140 then attrition occurance is high.\n",
    "##### 4. Person having experience less than 1.5 years and age is less than 18.5 and Monthly Income < 32530 then attrition occurance is high.\n",
    "##### 5. Person having experience more than 1.5 years and age is more than 33.5 then attrition occurance is low.\n",
    "##### 6. Person having experience more than 39 years and  and Monthly Income < 10300 then attrition occurance is high.\n",
    "##### 7. Person having experience more than 5.5 years and  and Monthly Income > 10300 then attrition occurance is low."
   ]
  }
 ],
 "metadata": {
  "kernelspec": {
   "display_name": "Python 3",
   "language": "python",
   "name": "python3"
  },
  "language_info": {
   "codemirror_mode": {
    "name": "ipython",
    "version": 3
   },
   "file_extension": ".py",
   "mimetype": "text/x-python",
   "name": "python",
   "nbconvert_exporter": "python",
   "pygments_lexer": "ipython3",
   "version": "3.7.7"
  }
 },
 "nbformat": 4,
 "nbformat_minor": 4
}
