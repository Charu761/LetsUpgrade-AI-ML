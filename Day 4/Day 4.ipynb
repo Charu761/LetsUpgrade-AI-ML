{
 "cells": [
  {
   "cell_type": "markdown",
   "metadata": {},
   "source": [
    "# Day 4 - Assignment"
   ]
  },
  {
   "cell_type": "markdown",
   "metadata": {},
   "source": [
    "##### 1. Research on whether addition, subtraction, multiplication, division, floor division and modulo operations be performed on complex numbers. Based on your study, implement a Python program to demonstrate these operations."
   ]
  },
  {
   "cell_type": "code",
   "execution_count": 34,
   "metadata": {},
   "outputs": [
    {
     "name": "stdout",
     "output_type": "stream",
     "text": [
      "\n",
      "(9+12j) + (3+6j) = (12+18j)\n",
      "(9+12j) - (3+6j) = (6+6j)\n",
      "(9+12j) * (3+6j) = (-45+90j)\n",
      "(9+12j) / (3+6j) = (2.2-0.4j) \n",
      "\n",
      "(9+12j) % (3+6j) cannot mod complex numbers\n",
      "\n",
      "(9+12j) // (3+6j) cannot floor complex numbers\n",
      "\n"
     ]
    }
   ],
   "source": [
    "a = 9+12j #assigned a complex number to variable 'a'\n",
    "b = 3+6j  #assigned a complex number to variable 'b'\n",
    "\n",
    "add = a+b     #Add complex numbers\n",
    "sub = a-b     #Subtrat complex numbers\n",
    "mul = a*b     #multiply complex numbers\n",
    "div = a/b     #divide complex numbers\n",
    "\n",
    "# mod = a%b    #modulo operation for complex numbers not possible in python 3\n",
    "\n",
    "# fldv = a//b  #cannot floor complex numbers\n",
    "\n",
    "#Printing the resultant value\n",
    "print()\n",
    "print(a,\"+\",b,\"=\",add)\n",
    "print(a,\"-\",b,\"=\",sub)\n",
    "print(a,\"*\",b,\"=\",mul)\n",
    "print(a,\"/\",b,\"=\",div,\"\\n\")\n",
    "print(a,\"%\",b,\"cannot mod complex numbers\\n\")\n",
    "print(a,\"//\",b,\"cannot floor complex numbers\")\n",
    "print()"
   ]
  },
  {
   "cell_type": "markdown",
   "metadata": {},
   "source": [
    "##### 2. Research on range() functions and its parameters. Create a markdown cell and write in your own words (no copy-paste from google please) what you understand about it. Implement a small program of your choice on the same."
   ]
  },
  {
   "cell_type": "markdown",
   "metadata": {},
   "source": [
    "> **_Ans :_** range() is a built-in function in python 3 which generates a sequence of integers depending on the arguments provided by the programmer, the main arguments consists of a start of the sequnce and the stop of the sequence (without including the stop integer number) and an additional jump argument can also be provided to define the gap within the sequence of integers. \n",
    "\n",
    "__For example:__\n",
    "\n",
    "> **`range(2)         => 0, 1`**, -- here **2** is the stop of the sequence and by _default_ **0** is taken as the start of the sequence, and the stop integer is not taken into consideration.\n",
    "\n",
    "> **`range(-2, 6)     => -2, -1, 0, 1, 2, 3, 4, 5`**  -- here **-2** is the start and **6** is the stop of the sequence\n",
    "\n",
    "> **`range(-2, 6, 2)  => -2, 0, 2, 4`**  -- here **2** is the jump or the step in the sequence\n"
   ]
  },
  {
   "cell_type": "code",
   "execution_count": 35,
   "metadata": {
    "scrolled": true
   },
   "outputs": [
    {
     "name": "stdout",
     "output_type": "stream",
     "text": [
      "\n",
      "Printing All even numbers between 2 and 50 using range()\n",
      "\n",
      "2  4  6  8  10  12  14  16  18  20  22  24  26  28  30  32  34  36  38  40  42  44  46  48  \n",
      "\n"
     ]
    }
   ],
   "source": [
    "start, stop, step = 2, 50, 2  #initializing the range arguments\n",
    "\n",
    "print(\"\\nPrinting All even numbers between\", start, \"and\", stop,\"using range()\\n\")\n",
    "\n",
    "for i in range(start, stop, step):   #defining the range and looping it\n",
    "    print(i, end=\"  \")               #printing the range sequence in one line\n",
    "print('\\n')"
   ]
  },
  {
   "cell_type": "markdown",
   "metadata": {},
   "source": [
    "##### 3. Consider two numbers. Perform their subtraction and if the result of subtraction is greater than 25, print their multiplication result else print their division result."
   ]
  },
  {
   "cell_type": "code",
   "execution_count": 18,
   "metadata": {},
   "outputs": [
    {
     "name": "stdout",
     "output_type": "stream",
     "text": [
      "100 - 50 > 25, therefore 100 * 50 = 5000\n",
      "\n"
     ]
    }
   ],
   "source": [
    "#initializing Two numbers \n",
    "a = 100\n",
    "b = 50\n",
    "\n",
    "if(a-b > 25):\n",
    "    print(a,\"-\",b,\"> 25, therefore\",a,\"*\",b,\"=\",a*b)\n",
    "else:\n",
    "    print(a,\"-\",b,\"< 25, therefore\",a,\"/\",b,\"=\",a/b)\n",
    "print()"
   ]
  },
  {
   "cell_type": "markdown",
   "metadata": {},
   "source": [
    "##### 4. Consider a list of 10 elements of integer values. If the number in the list is divisible by 2, print the result as \"square of that number minus 2\"."
   ]
  },
  {
   "cell_type": "code",
   "execution_count": 37,
   "metadata": {},
   "outputs": [
    {
     "name": "stdout",
     "output_type": "stream",
     "text": [
      "Square of 10 ( 100 ) minus 2 is 98\n",
      "Square of 22 ( 484 ) minus 2 is 482\n",
      "Square of 20 ( 400 ) minus 2 is 398\n",
      "Square of -12 ( 144 ) minus 2 is 142\n",
      "Square of 18 ( 324 ) minus 2 is 322\n",
      "Square of -88 ( 7744 ) minus 2 is 7742\n",
      "\n"
     ]
    }
   ],
   "source": [
    "lst = [10,55,22,67,20,-12,18,57,65,-88]\n",
    "\n",
    "for i in lst:\n",
    "    if(i%2 == 0):\n",
    "        print(\"Square of\",i,'(',i**2,')',\"minus 2 is\",i**2-2)\n",
    "print()"
   ]
  },
  {
   "cell_type": "markdown",
   "metadata": {},
   "source": [
    "##### 5. Consider a list of 10 elements. Print all the elements in the list which are greater than 7 when that number is divided 2."
   ]
  },
  {
   "cell_type": "code",
   "execution_count": 28,
   "metadata": {},
   "outputs": [
    {
     "name": "stdout",
     "output_type": "stream",
     "text": [
      "55  22  67  20  18  57  65  "
     ]
    }
   ],
   "source": [
    "lst = [10,55,22,67,20,-12,18,57,65,-88]\n",
    "\n",
    "for i in lst:\n",
    "    if(i/2 > 7):\n",
    "        print(i, end=\"  \")"
   ]
  }
 ],
 "metadata": {
  "kernelspec": {
   "display_name": "Python 3",
   "language": "python",
   "name": "python3"
  },
  "language_info": {
   "codemirror_mode": {
    "name": "ipython",
    "version": 3
   },
   "file_extension": ".py",
   "mimetype": "text/x-python",
   "name": "python",
   "nbconvert_exporter": "python",
   "pygments_lexer": "ipython3",
   "version": "3.7.6"
  }
 },
 "nbformat": 4,
 "nbformat_minor": 4
}
